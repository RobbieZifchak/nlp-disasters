{
 "cells": [
  {
   "cell_type": "code",
   "execution_count": 1,
   "metadata": {},
   "outputs": [],
   "source": [
    "import pandas as pd\n",
    "import matplotlib.pyplot as plt\n",
    "import seaborn as sns\n",
    "import re\n",
    "from matplotlib import cm\n",
    "import numpy as np\n",
    "\n",
    "from nltk.tokenize import RegexpTokenizer\n",
    "from nltk.corpus import stopwords\n",
    "from nltk.probability import FreqDist\n",
    "import nltk\n",
    "from nltk.stem import WordNetLemmatizer\n",
    "from nltk.stem import PorterStemmer\n",
    "\n",
    "from sklearn.model_selection import train_test_split\n",
    "from sklearn.feature_extraction.text import TfidfVectorizer\n",
    "\n",
    "from sklearn.ensemble import RandomForestClassifier\n",
    "from sklearn.metrics import confusion_matrix, classification_report, roc_curve, auc\n",
    "from sklearn.metrics import accuracy_score, precision_score, recall_score\n",
    "from sklearn.model_selection import GridSearchCV\n",
    "\n",
    "from yellowbrick.classifier import ClassificationReport\n",
    "from yellowbrick.classifier import ConfusionMatrix\n",
    "\n",
    "\n",
    "from sklearn.naive_bayes import GaussianNB"
   ]
  },
  {
   "cell_type": "code",
   "execution_count": 25,
   "metadata": {},
   "outputs": [],
   "source": [
    "pd.options.display.max_colwidth = 150"
   ]
  },
  {
   "cell_type": "code",
   "execution_count": 34,
   "metadata": {},
   "outputs": [],
   "source": [
    "df = pd.read_csv('train.csv')"
   ]
  },
  {
   "cell_type": "code",
   "execution_count": 35,
   "metadata": {},
   "outputs": [
    {
     "data": {
      "text/plain": [
       "(7613, 5)"
      ]
     },
     "execution_count": 35,
     "metadata": {},
     "output_type": "execute_result"
    }
   ],
   "source": [
    "df.shape"
   ]
  },
  {
   "cell_type": "code",
   "execution_count": 30,
   "metadata": {},
   "outputs": [],
   "source": [
    "df_real_preview = df[df['target'] == 1]\n",
    "df_fake_preview = df[df['target'] == 0]"
   ]
  },
  {
   "cell_type": "code",
   "execution_count": 46,
   "metadata": {},
   "outputs": [
    {
     "data": {
      "text/plain": [
       "(4342, 5)"
      ]
     },
     "execution_count": 46,
     "metadata": {},
     "output_type": "execute_result"
    }
   ],
   "source": [
    "df_real_preview.shape\n",
    "df_fake_preview.shape"
   ]
  },
  {
   "cell_type": "code",
   "execution_count": 44,
   "metadata": {
    "collapsed": true,
    "jupyter": {
     "outputs_hidden": true
    }
   },
   "outputs": [
    {
     "data": {
      "text/html": [
       "<div>\n",
       "<style scoped>\n",
       "    .dataframe tbody tr th:only-of-type {\n",
       "        vertical-align: middle;\n",
       "    }\n",
       "\n",
       "    .dataframe tbody tr th {\n",
       "        vertical-align: top;\n",
       "    }\n",
       "\n",
       "    .dataframe thead th {\n",
       "        text-align: right;\n",
       "    }\n",
       "</style>\n",
       "<table border=\"1\" class=\"dataframe\">\n",
       "  <thead>\n",
       "    <tr style=\"text-align: right;\">\n",
       "      <th></th>\n",
       "      <th>id</th>\n",
       "      <th>keyword</th>\n",
       "      <th>location</th>\n",
       "      <th>text</th>\n",
       "      <th>target</th>\n",
       "    </tr>\n",
       "  </thead>\n",
       "  <tbody>\n",
       "    <tr>\n",
       "      <td>50</td>\n",
       "      <td>73</td>\n",
       "      <td>ablaze</td>\n",
       "      <td>Sheffield Township, Ohio</td>\n",
       "      <td>Deputies: Man shot before Brighton home set ablaze http://t.co/gWNRhMSO8k</td>\n",
       "      <td>1</td>\n",
       "    </tr>\n",
       "    <tr>\n",
       "      <td>1249</td>\n",
       "      <td>1803</td>\n",
       "      <td>buildings%20on%20fire</td>\n",
       "      <td>Peoria</td>\n",
       "      <td>What news reports am I missing? Are there buildings on fire people shot etc. due to videos? #PPSellsBabyParts https://t.co/Wzc5r4XOqZ</td>\n",
       "      <td>1</td>\n",
       "    </tr>\n",
       "    <tr>\n",
       "      <td>1713</td>\n",
       "      <td>2470</td>\n",
       "      <td>collided</td>\n",
       "      <td>From a torn up town MANCHESTER</td>\n",
       "      <td>Two cars collided following shotgun fire in Denton http://t.co/0r03C6njLI</td>\n",
       "      <td>1</td>\n",
       "    </tr>\n",
       "    <tr>\n",
       "      <td>3112</td>\n",
       "      <td>4466</td>\n",
       "      <td>electrocuted</td>\n",
       "      <td>North Carolina</td>\n",
       "      <td>I'm loving this classic barn shot! We may or may not have got electrocuted got stung a few times and stepped in... http://t.co/X6aSGRjsWC</td>\n",
       "      <td>1</td>\n",
       "    </tr>\n",
       "    <tr>\n",
       "      <td>3313</td>\n",
       "      <td>4747</td>\n",
       "      <td>evacuate</td>\n",
       "      <td>Nashville</td>\n",
       "      <td>@ahhtheenikki And from what I can tell- they responded to today's gunman quickly and were able to evacuate all the ppl so no one was shot.</td>\n",
       "      <td>1</td>\n",
       "    </tr>\n",
       "    <tr>\n",
       "      <td>3442</td>\n",
       "      <td>4919</td>\n",
       "      <td>exploded</td>\n",
       "      <td>Chicago, IL</td>\n",
       "      <td>Final #Medinah update: shot a 105. 49 on front (exploded with a) 56 on back. #ImKeepingMyDayJob (pic is famous #17) http://t.co/kcmbBwwp8G</td>\n",
       "      <td>1</td>\n",
       "    </tr>\n",
       "    <tr>\n",
       "      <td>3714</td>\n",
       "      <td>5282</td>\n",
       "      <td>fear</td>\n",
       "      <td>Midwestern USA</td>\n",
       "      <td>@CowgirlLawyer We must refuse to become a nation with everyone living in fear of being shot unawares by intoxicated &amp;amp;/or crazy people.</td>\n",
       "      <td>1</td>\n",
       "    </tr>\n",
       "    <tr>\n",
       "      <td>4402</td>\n",
       "      <td>6258</td>\n",
       "      <td>hijacking</td>\n",
       "      <td>NaN</td>\n",
       "      <td>Û÷Good SamaritansÛª shot in horror hijacking  JOHANNESBURG. &amp;amp;mdash; Four men were shot dead in Bronville Free StateÛ_ http://t.co/6jjvCDN4TI</td>\n",
       "      <td>1</td>\n",
       "    </tr>\n",
       "    <tr>\n",
       "      <td>4417</td>\n",
       "      <td>6278</td>\n",
       "      <td>hijacking</td>\n",
       "      <td>Zimbabwe</td>\n",
       "      <td>Û÷Good SamaritansÛª shot in horror hijacking http://t.co/V5yUUALoqw #263Chat #Twimbos ZimpapersViews</td>\n",
       "      <td>1</td>\n",
       "    </tr>\n",
       "    <tr>\n",
       "      <td>4807</td>\n",
       "      <td>6843</td>\n",
       "      <td>loud%20bang</td>\n",
       "      <td>English Midlands</td>\n",
       "      <td>St steel coffee cafetiere exploded this am with loud bang hot coffee &amp;amp; grounds shot over table clean crockery phone\\ntablet. How?</td>\n",
       "      <td>1</td>\n",
       "    </tr>\n",
       "    <tr>\n",
       "      <td>4846</td>\n",
       "      <td>6903</td>\n",
       "      <td>mass%20murderer</td>\n",
       "      <td>NaN</td>\n",
       "      <td>Kach was a group to which belonged Baruch Goldstein a mass murderer who in 1994 shot and killed 29 PalestinianÛ_ http://t.co/bXGNQ57xvb</td>\n",
       "      <td>1</td>\n",
       "    </tr>\n",
       "    <tr>\n",
       "      <td>5777</td>\n",
       "      <td>8244</td>\n",
       "      <td>rioting</td>\n",
       "      <td>NaN</td>\n",
       "      <td>Eric Clapton shot the sheriff in 1974 and guess how many people were rioting? Right none.</td>\n",
       "      <td>1</td>\n",
       "    </tr>\n",
       "    <tr>\n",
       "      <td>5809</td>\n",
       "      <td>8291</td>\n",
       "      <td>rioting</td>\n",
       "      <td>Cassadaga Florida</td>\n",
       "      <td>@fa07af174a71408 I have lived &amp;amp; my family have lived in countries where looters were shot on sight where rioting wasn't tolerated. Why here</td>\n",
       "      <td>1</td>\n",
       "    </tr>\n",
       "    <tr>\n",
       "      <td>6540</td>\n",
       "      <td>9355</td>\n",
       "      <td>survived</td>\n",
       "      <td>?</td>\n",
       "      <td>@TheSmallClark 'He'll kill me instead if he survived the shot. I don't exactly know. I fled the scene and pulled the trigger with---</td>\n",
       "      <td>1</td>\n",
       "    </tr>\n",
       "    <tr>\n",
       "      <td>6653</td>\n",
       "      <td>9533</td>\n",
       "      <td>terrorist</td>\n",
       "      <td>????? ???? ????</td>\n",
       "      <td>#UdhampurAgain 2 terrorist shot dead.. #Udhampur</td>\n",
       "      <td>1</td>\n",
       "    </tr>\n",
       "    <tr>\n",
       "      <td>7404</td>\n",
       "      <td>10592</td>\n",
       "      <td>wounded</td>\n",
       "      <td>New York</td>\n",
       "      <td>One man fatally shot another wounded on Vermont Street #Buffalo - http://t.co/KakY4mpCO4</td>\n",
       "      <td>1</td>\n",
       "    </tr>\n",
       "    <tr>\n",
       "      <td>7413</td>\n",
       "      <td>10606</td>\n",
       "      <td>wounded</td>\n",
       "      <td>USA</td>\n",
       "      <td>One man fatally shot another wounded on Vermont Street #Buffalo - http://t.co/8ACDF4Zui6</td>\n",
       "      <td>1</td>\n",
       "    </tr>\n",
       "    <tr>\n",
       "      <td>7418</td>\n",
       "      <td>10611</td>\n",
       "      <td>wounded</td>\n",
       "      <td>Americas Newsroom</td>\n",
       "      <td>Police officer wounded suspect dead after exchanging shots: RICHMOND Va. (AP) ÛÓ A Richmond police officer wa... http://t.co/Y0qQS2L7bS</td>\n",
       "      <td>1</td>\n",
       "    </tr>\n",
       "    <tr>\n",
       "      <td>7429</td>\n",
       "      <td>10627</td>\n",
       "      <td>wounded</td>\n",
       "      <td>England, United Kingdom</td>\n",
       "      <td>[#Latestnews] Police officer wounded suspect dead after exchanging shots: RICHMOND Va. (AP) ÛÓ A Richmond pol... http://t.co/ia1HnGnHVB</td>\n",
       "      <td>1</td>\n",
       "    </tr>\n",
       "    <tr>\n",
       "      <td>7435</td>\n",
       "      <td>10636</td>\n",
       "      <td>wounds</td>\n",
       "      <td>Charlotte</td>\n",
       "      <td>Gunshot wound #9 is in the bicep. The only one of the ten wounds that is not in the chest/torso area.  #KerrickTrial #JonathanFerrell</td>\n",
       "      <td>1</td>\n",
       "    </tr>\n",
       "  </tbody>\n",
       "</table>\n",
       "</div>"
      ],
      "text/plain": [
       "         id                keyword                        location  \\\n",
       "50       73                 ablaze        Sheffield Township, Ohio   \n",
       "1249   1803  buildings%20on%20fire                          Peoria   \n",
       "1713   2470               collided  From a torn up town MANCHESTER   \n",
       "3112   4466           electrocuted                  North Carolina   \n",
       "3313   4747               evacuate                       Nashville   \n",
       "3442   4919               exploded                     Chicago, IL   \n",
       "3714   5282                   fear                  Midwestern USA   \n",
       "4402   6258              hijacking                             NaN   \n",
       "4417   6278              hijacking                        Zimbabwe   \n",
       "4807   6843            loud%20bang                English Midlands   \n",
       "4846   6903        mass%20murderer                             NaN   \n",
       "5777   8244                rioting                             NaN   \n",
       "5809   8291                rioting               Cassadaga Florida   \n",
       "6540   9355               survived                               ?   \n",
       "6653   9533              terrorist                 ????? ???? ????   \n",
       "7404  10592                wounded                        New York   \n",
       "7413  10606                wounded                             USA   \n",
       "7418  10611                wounded               Americas Newsroom   \n",
       "7429  10627                wounded         England, United Kingdom   \n",
       "7435  10636                 wounds                      Charlotte    \n",
       "\n",
       "                                                                                                                                                     text  \\\n",
       "50                                                                              Deputies: Man shot before Brighton home set ablaze http://t.co/gWNRhMSO8k   \n",
       "1249                What news reports am I missing? Are there buildings on fire people shot etc. due to videos? #PPSellsBabyParts https://t.co/Wzc5r4XOqZ   \n",
       "1713                                                                            Two cars collided following shotgun fire in Denton http://t.co/0r03C6njLI   \n",
       "3112            I'm loving this classic barn shot! We may or may not have got electrocuted got stung a few times and stepped in... http://t.co/X6aSGRjsWC   \n",
       "3313           @ahhtheenikki And from what I can tell- they responded to today's gunman quickly and were able to evacuate all the ppl so no one was shot.   \n",
       "3442           Final #Medinah update: shot a 105. 49 on front (exploded with a) 56 on back. #ImKeepingMyDayJob (pic is famous #17) http://t.co/kcmbBwwp8G   \n",
       "3714           @CowgirlLawyer We must refuse to become a nation with everyone living in fear of being shot unawares by intoxicated &amp;/or crazy people.   \n",
       "4402  Û÷Good SamaritansÛª shot in horror hijacking  JOHANNESBURG. &amp;mdash; Four men were shot dead in Bronville Free StateÛ_ http://t.co/6jjvCDN4TI   \n",
       "4417                                               Û÷Good SamaritansÛª shot in horror hijacking http://t.co/V5yUUALoqw #263Chat #Twimbos ZimpapersViews   \n",
       "4807                St steel coffee cafetiere exploded this am with loud bang hot coffee &amp; grounds shot over table clean crockery phone\\ntablet. How?   \n",
       "4846             Kach was a group to which belonged Baruch Goldstein a mass murderer who in 1994 shot and killed 29 PalestinianÛ_ http://t.co/bXGNQ57xvb   \n",
       "5777                                                            Eric Clapton shot the sheriff in 1974 and guess how many people were rioting? Right none.   \n",
       "5809      @fa07af174a71408 I have lived &amp; my family have lived in countries where looters were shot on sight where rioting wasn't tolerated. Why here   \n",
       "6540                 @TheSmallClark 'He'll kill me instead if he survived the shot. I don't exactly know. I fled the scene and pulled the trigger with---   \n",
       "6653                                                                                                     #UdhampurAgain 2 terrorist shot dead.. #Udhampur   \n",
       "7404                                                             One man fatally shot another wounded on Vermont Street #Buffalo - http://t.co/KakY4mpCO4   \n",
       "7413                                                             One man fatally shot another wounded on Vermont Street #Buffalo - http://t.co/8ACDF4Zui6   \n",
       "7418             Police officer wounded suspect dead after exchanging shots: RICHMOND Va. (AP) ÛÓ A Richmond police officer wa... http://t.co/Y0qQS2L7bS   \n",
       "7429             [#Latestnews] Police officer wounded suspect dead after exchanging shots: RICHMOND Va. (AP) ÛÓ A Richmond pol... http://t.co/ia1HnGnHVB   \n",
       "7435                Gunshot wound #9 is in the bicep. The only one of the ten wounds that is not in the chest/torso area.  #KerrickTrial #JonathanFerrell   \n",
       "\n",
       "      target  \n",
       "50         1  \n",
       "1249       1  \n",
       "1713       1  \n",
       "3112       1  \n",
       "3313       1  \n",
       "3442       1  \n",
       "3714       1  \n",
       "4402       1  \n",
       "4417       1  \n",
       "4807       1  \n",
       "4846       1  \n",
       "5777       1  \n",
       "5809       1  \n",
       "6540       1  \n",
       "6653       1  \n",
       "7404       1  \n",
       "7413       1  \n",
       "7418       1  \n",
       "7429       1  \n",
       "7435       1  "
      ]
     },
     "execution_count": 44,
     "metadata": {},
     "output_type": "execute_result"
    }
   ],
   "source": [
    "df_real_preview[df_real_preview['text'].str.contains('shot')]"
   ]
  },
  {
   "cell_type": "code",
   "execution_count": 33,
   "metadata": {
    "collapsed": true,
    "jupyter": {
     "outputs_hidden": true
    }
   },
   "outputs": [
    {
     "data": {
      "text/plain": [
       "518                                                   I liked a @YouTube video http://t.co/TNXQuOr1wb Kalle Mattson - 'Avalanche' (Official Video)\n",
       "519                                                                                                             we'll crash down like an avalanche\n",
       "520                  #Colorado #Avalanche Men's Official Colorado Avalanche Reebok T-Shirt XL Blue 100% Cotton http://t.co/ZNSvsTGwx3 #NHL #Hockey\n",
       "521                                         2 TIX 10/3 Frozen Fury XVII: Los Angeles Kings v Avalanche 103 Row:AA MGM Grand http://t.co/kBtZZZG2Tp\n",
       "522                                                                                   I BET YOU DIDNT KNOW I KICK BOX TOO! https://t.co/rBrw8pWiPJ\n",
       "523            A little piece I wrote for the Avalanche Designs blog! I'd appreciate it greatly if you checked it out :-)  https://t.co/rfvjh58eF2\n",
       "524                 PATRICK ROY 1998-99 UPPER DECK SPX #171 FINITE 1620 MADE COLORADO AVALANCHE MINT http://t.co/uHfM1r3Tq5 http://t.co/QulgaKebHB\n",
       "525                          Musician Kalle Mattson Recreates 34 Classic Album Covers in Clever Music Video for 'Avalanche' http://t.co/yDJpOpH1DW\n",
       "526            Beautiful Sweet Avalanche Faith and Akito roses with lots of frothy gyp. http://t.co/RaqUpzFkJY #weddinghour http://t.co/quNxocXCgA\n",
       "527                                            1-6 TIX Calgary Flames vs COL Avalanche Preseason 9/29 Scotiabank Saddledome http://t.co/5G8qA6mPxm\n",
       "528                             Secrets up avalanche: catechize inner self for the confidential communication as respects creating worth in len...\n",
       "529                                               the fall of leaves from a poplar is as fully ordained as the tumbling of an avalanche - Spurgeon\n",
       "530            I saw two great punk bands making original music last week. Check em out here!! @GHOSTOFTHEAV @MontroseBand https://t.co/WdvxjsQwic\n",
       "531                          GREAT PERFORMANCE CHIP FUEL/GAS SAVER CHEVY TAHOE/BLAZER/AVALANCHE/S-10 http://t.co/iCrZi5TqC5 http://t.co/ONxhKfHn2a\n",
       "532                      Musician Kalle Mattson Recreates 34 Classic Album Covers in Clever Music Video for Û÷AvalancheÛª http://t.co/VBSwhz4s2V\n",
       "534                           Free Ebay Sniping RT? http://t.co/RqIPGQslT6 Chevrolet : Avalanche Ltz Lifted 4x4 Truck ?Please Favorite &amp; Share\n",
       "536     Paul Rudd Emile Hirsch David Gordon Green 'Prince Avalanche' Q&amp;A | Filmmakers at Google http://t.co/e4QonKzndZ  #entretenimento #Video\n",
       "537                                     Great one time deal on all Avalanche music and with purchase get a Neal Rigga shirt http://t.co/4VIRXkgMpC\n",
       "538               .@bigperm28 was drafted by the @Avalanche in 2005 (rd. 4 #124) overall. Played last season in @UtahGrizz. http://t.co/gPGTAfMKt0\n",
       "539                                                                      I HAVE GOT MORE VIDEOS THAN YOU RAPPERS GOT SONGS! http://t.co/pBLvPM6C27\n",
       "540                                                                                              @funkflex yo flex im here https://t.co/2AZxdLCXgA\n",
       "541                                                                You are the avalanche. One world away. My make believing. While I'm wide awake.\n",
       "542                                                              The possible new jerseys for the Avalanche next year. ???? http://t.co/nruzhR5XQu\n",
       "543                             What a feat! Watch the #BTS of @kallemattson's incredible music video for #Avalanche: https://t.co/3W6seA9tuv ????\n",
       "546                                                                                           No snowflake in an avalanche ever feels responsible.\n",
       "549                                              Dragon Ball Z: Battle Of Gods (2014) - Rotten Tomatoes http://t.co/jDDNhmrmMJ via @RottenTomatoes\n",
       "550                       I added a video to a @YouTube playlist http://t.co/wedWyn9kfS World Of Tanks - Battle Assistant Mod Bat Chat Arti kaboom\n",
       "551      YA BOY CLIP VS 4KUS FULL BATTLE\\n\\n@15MofeRadio @Heavybag201 @battle_dom @QOTRING @BattleRapChris @Hughes1128 \\n\\nhttps://t.co/7SPyDy1csc\n",
       "553     It's baaaack!  Petersen's Bowhunting Battle of the Bows.  Make sure you head on over and cast your vote for your... http://t.co/FJ73gDvg2n\n",
       "554                                                         #Tb #throwback ??\\n\\n??~ You want a battle? Here's a War! ~ ?? https://t.co/B0ZJWgmaIW\n",
       "555       Kelby Tomlinson mild-mannered 2nd baseman for a great metropolitan team fights a never-ending battle for hits RBI and the #SFGiants way.\n",
       "557     What really happened in the Taken King Story Trailer. A space battle that ripped a hole in Saturn. @EyTay @neur0sis http://t.co/ZYRZX6dfki\n",
       "558                                                                                              THESE AFTER BATTLE ANIMATIONS ARE SO FUCKING MUCH\n",
       "559                                                                    See what happens with NO Battle of the Block @CBSBigBrother!?! ???? finally\n",
       "560                                                                                                   #DU19 who gon get in this rap battle with me\n",
       "561                                                       Do Your Own Thing: The Battle of Internal vs External Motivation: http://t.co/w9P3hAuHEi\n",
       "562                                                       Check out this item I just got! [Phantasmal Cummerbund] http://t.co/qrHJEI7gRq #Warcraft\n",
       "564                                                                I liked a @YouTube video http://t.co/9Vw0uQQi1y Marvel VS DC (Avengers Battle!)\n",
       "565                                                                                                                 @UtahCanary sigh daily battle.\n",
       "566      @SexyDragonMagic I've come to the realization that I just don't have the attention span for mass battle games. Both painting and playing.\n",
       "567                                                                                         @DetroitPls interested to see who will win this battle\n",
       "568                                                                                                   Battle of the GOATS  https://t.co/ofECs6tcvC\n",
       "569                 STAR WARS POWER OF THE JEDI COLLECTION 1 BATTLE DROID HASBRO - Full read by eBay http://t.co/yI30ZgiZsW http://t.co/2jGVhw7YZs\n",
       "570                                     Black Eye 9: A space battle occurred at Star O784 involving 2 fleets totaling 4103 ships with 50 destroyed\n",
       "571    #LonePine remembered around Australia as 'descendants' grow via @666canberra #Gallipoli #WW1\\nhttp://t.co/T4fvVnRPc5 http://t.co/0zZnbVFUVO\n",
       "572                    how did I miss that Gary Busey's son plays DIXIE on his electronic green fiddle during the post-battle celebration sequence\n",
       "574                                                            FedEx no longer will transport bioterror germs http://t.co/qfjjDxes7G via @USATODAY\n",
       "575     USA TODAY: .@FedEx will no longer to transport bioterror pathogens after ... - http://t.co/iaDlSlqdpd #NewsInTweets http://t.co/o8y1suL4Ow\n",
       "578                                       FedEx will no longer transport bioterror pathogens in wake of anthrax lab mishaps http://t.co/lHpgxc4b8J\n",
       "582                                                FedEx no longer will ship potential bioterror pathogens http://t.co/CHORr2XOVp via @AtlBizChron\n",
       "Name: text, dtype: object"
      ]
     },
     "execution_count": 33,
     "metadata": {},
     "output_type": "execute_result"
    }
   ],
   "source": [
    "df_fake_preview['text'][300:350]"
   ]
  },
  {
   "cell_type": "markdown",
   "metadata": {},
   "source": [
    "## Tokenize, Lemmatize, Stop Words"
   ]
  },
  {
   "cell_type": "code",
   "execution_count": 3,
   "metadata": {},
   "outputs": [],
   "source": [
    "def remove_urls(df):\n",
    "    df['text'] = df['text'].str.replace(r\"http\\S+\", \"\")\n",
    "\n",
    "remove_urls(df)"
   ]
  },
  {
   "cell_type": "code",
   "execution_count": 4,
   "metadata": {},
   "outputs": [],
   "source": [
    "#creating list of stop words to be removed from body of tweet texts. Punctuation and \n",
    "tokenizer = RegexpTokenizer(r'(?u)(?<![@])#?\\b\\w\\w+\\b')\n",
    "sw_list = stopwords.words('english')\n",
    "sw_list += [\"''\", '\"\"', '...', '``', '’', '“', '’', '”', '‘', '‘', '©',\n",
    "            '-', '–', '—', 'airplane mode', 'co', 'û_','ûï', 'amp', 'get', 'new', 'one', 'go', 'rt', 'gt']\n",
    "sw_set = set(sw_list)"
   ]
  },
  {
   "cell_type": "code",
   "execution_count": 5,
   "metadata": {},
   "outputs": [],
   "source": [
    "def process_text(text):\n",
    "    tokens = tokenizer.tokenize(text)\n",
    "    stopwords_removed = [token.lower() for token in tokens if token.lower() not in sw_set]\n",
    "    return stopwords_removed"
   ]
  },
  {
   "cell_type": "code",
   "execution_count": 6,
   "metadata": {},
   "outputs": [],
   "source": [
    "df['text'] = list(map(process_text, df['text']))"
   ]
  },
  {
   "cell_type": "code",
   "execution_count": 7,
   "metadata": {},
   "outputs": [],
   "source": [
    "from nltk.stem import WordNetLemmatizer \n",
    "\n",
    "lemmatizer = WordNetLemmatizer()\n",
    "\n",
    "def lemmatize_text(df_text):\n",
    "    lemmatized_review=[]\n",
    "    for w in df_text:\n",
    "        lemmatized_review.append(lemmatizer.lemmatize(w))\n",
    "    return lemmatized_review"
   ]
  },
  {
   "cell_type": "code",
   "execution_count": 8,
   "metadata": {},
   "outputs": [],
   "source": [
    "df['text'] = df['text'].apply(lemmatize_text)"
   ]
  },
  {
   "cell_type": "code",
   "execution_count": 9,
   "metadata": {},
   "outputs": [
    {
     "name": "stdout",
     "output_type": "stream",
     "text": [
      "66638 words total, with a vocabulary size of 14197\n",
      "Max sentence length is 23\n"
     ]
    }
   ],
   "source": [
    "all_words = [word for tokens in df['text'] for word in tokens]\n",
    "sentence_lengths = [len(tokens) for tokens in df['text']]\n",
    "vocab = sorted(list(set(all_words)))\n",
    "print(\"%s words total, with a vocabulary size of %s\" % (len(all_words), len(vocab)))\n",
    "print(\"Max sentence length is %s\" % max(sentence_lengths))"
   ]
  },
  {
   "cell_type": "code",
   "execution_count": 10,
   "metadata": {},
   "outputs": [
    {
     "data": {
      "image/png": "[encoded data removed]",
      "text/plain": [
       "<Figure size 1080x576 with 1 Axes>"
      ]
     },
     "metadata": {
      "needs_background": "light"
     },
     "output_type": "display_data"
    }
   ],
   "source": [
    "plt.figure(figsize = (15,8))\n",
    "sns.countplot(sentence_lengths, hue = 'target', data = df)\n",
    "plt.title('Tweet Length Distribution', fontsize = 18)\n",
    "plt.legend(['fake disaster','real disaster'], fontsize = 15)\n",
    "plt.xlabel('Words per Tweet', fontsize = 12)\n",
    "plt.ylabel('Number of Tweets', fontsize =12)\n",
    "plt.show()"
   ]
  },
  {
   "cell_type": "code",
   "execution_count": 16,
   "metadata": {},
   "outputs": [],
   "source": [
    "#tweet_text_list = df['text'].tolist()"
   ]
  },
  {
   "cell_type": "code",
   "execution_count": 23,
   "metadata": {},
   "outputs": [],
   "source": [
    "df_real = df[df['target']==1]\n",
    "df_fake = df[df['target']==0]"
   ]
  },
  {
   "cell_type": "code",
   "execution_count": 26,
   "metadata": {},
   "outputs": [
    {
     "data": {
      "text/plain": [
       "0                                                                                  [deed, reason, #earthquake, may, allah, forgive, u]\n",
       "1                                                                                        [forest, fire, near, la, ronge, sask, canada]\n",
       "2                                    [resident, asked, shelter, place, notified, officer, evacuation, shelter, place, order, expected]\n",
       "3                                                                [13, 000, people, receive, #wildfires, evacuation, order, california]\n",
       "4                                                                  [got, sent, photo, ruby, #alaska, smoke, #wildfires, pours, school]\n",
       "                                                                     ...                                                              \n",
       "7608                                                                      [two, giant, crane, holding, bridge, collapse, nearby, home]\n",
       "7609                                                         [control, wild, fire, california, even, northern, part, state, troubling]\n",
       "7610                                                                                       [m1, 94, 01, 04, utc, 5km, volcano, hawaii]\n",
       "7611    [police, investigating, bike, collided, car, little, portugal, bike, rider, suffered, serious, non, life, threatening, injury]\n",
       "7612                                                                  [latest, home, razed, northern, california, wildfire, abc, news]\n",
       "Name: text, Length: 3271, dtype: object"
      ]
     },
     "execution_count": 26,
     "metadata": {},
     "output_type": "execute_result"
    }
   ],
   "source": [
    "df_real['text']"
   ]
  },
  {
   "cell_type": "code",
   "execution_count": 106,
   "metadata": {},
   "outputs": [],
   "source": [
    "#df_real['text'] = df_real['text'].apply(lemmatize_text)\n",
    "#df_fake['text'] = df_fake['text'].apply(lemmatize_text)"
   ]
  },
  {
   "cell_type": "code",
   "execution_count": 107,
   "metadata": {},
   "outputs": [
    {
     "data": {
      "text/html": [
       "<div>\n",
       "<style scoped>\n",
       "    .dataframe tbody tr th:only-of-type {\n",
       "        vertical-align: middle;\n",
       "    }\n",
       "\n",
       "    .dataframe tbody tr th {\n",
       "        vertical-align: top;\n",
       "    }\n",
       "\n",
       "    .dataframe thead th {\n",
       "        text-align: right;\n",
       "    }\n",
       "</style>\n",
       "<table border=\"1\" class=\"dataframe\">\n",
       "  <thead>\n",
       "    <tr style=\"text-align: right;\">\n",
       "      <th></th>\n",
       "      <th>id</th>\n",
       "      <th>keyword</th>\n",
       "      <th>location</th>\n",
       "      <th>text</th>\n",
       "      <th>target</th>\n",
       "    </tr>\n",
       "  </thead>\n",
       "  <tbody>\n",
       "    <tr>\n",
       "      <td>15</td>\n",
       "      <td>23</td>\n",
       "      <td>NaN</td>\n",
       "      <td>NaN</td>\n",
       "      <td>What's up man?</td>\n",
       "      <td>0</td>\n",
       "    </tr>\n",
       "    <tr>\n",
       "      <td>16</td>\n",
       "      <td>24</td>\n",
       "      <td>NaN</td>\n",
       "      <td>NaN</td>\n",
       "      <td>I love fruits</td>\n",
       "      <td>0</td>\n",
       "    </tr>\n",
       "    <tr>\n",
       "      <td>17</td>\n",
       "      <td>25</td>\n",
       "      <td>NaN</td>\n",
       "      <td>NaN</td>\n",
       "      <td>Summer is lovely</td>\n",
       "      <td>0</td>\n",
       "    </tr>\n",
       "    <tr>\n",
       "      <td>18</td>\n",
       "      <td>26</td>\n",
       "      <td>NaN</td>\n",
       "      <td>NaN</td>\n",
       "      <td>My car is so fast</td>\n",
       "      <td>0</td>\n",
       "    </tr>\n",
       "    <tr>\n",
       "      <td>19</td>\n",
       "      <td>28</td>\n",
       "      <td>NaN</td>\n",
       "      <td>NaN</td>\n",
       "      <td>What a goooooooaaaaaal!!!!!!</td>\n",
       "      <td>0</td>\n",
       "    </tr>\n",
       "    <tr>\n",
       "      <td>...</td>\n",
       "      <td>...</td>\n",
       "      <td>...</td>\n",
       "      <td>...</td>\n",
       "      <td>...</td>\n",
       "      <td>...</td>\n",
       "    </tr>\n",
       "    <tr>\n",
       "      <td>330</td>\n",
       "      <td>477</td>\n",
       "      <td>armageddon</td>\n",
       "      <td>California</td>\n",
       "      <td>Check out #PREPPERS #DOOMSDAY MUST HAVE LIBRAR...</td>\n",
       "      <td>0</td>\n",
       "    </tr>\n",
       "    <tr>\n",
       "      <td>332</td>\n",
       "      <td>479</td>\n",
       "      <td>armageddon</td>\n",
       "      <td>NaN</td>\n",
       "      <td>So the Ahamedis think the Messiah had already ...</td>\n",
       "      <td>0</td>\n",
       "    </tr>\n",
       "    <tr>\n",
       "      <td>333</td>\n",
       "      <td>480</td>\n",
       "      <td>armageddon</td>\n",
       "      <td>The Orwellion police-state</td>\n",
       "      <td>Sadly How Windows 10 Reveals Microsoft's Ethic...</td>\n",
       "      <td>0</td>\n",
       "    </tr>\n",
       "    <tr>\n",
       "      <td>334</td>\n",
       "      <td>481</td>\n",
       "      <td>armageddon</td>\n",
       "      <td>Castaic, CA</td>\n",
       "      <td>Armageddon averted by El Patron\\n#UltimaLucha</td>\n",
       "      <td>0</td>\n",
       "    </tr>\n",
       "    <tr>\n",
       "      <td>335</td>\n",
       "      <td>482</td>\n",
       "      <td>armageddon</td>\n",
       "      <td>Helsinki, Finland</td>\n",
       "      <td>@samihonkonen If you have the time (23 hours ?...</td>\n",
       "      <td>0</td>\n",
       "    </tr>\n",
       "  </tbody>\n",
       "</table>\n",
       "<p>200 rows × 5 columns</p>\n",
       "</div>"
      ],
      "text/plain": [
       "      id     keyword                    location  \\\n",
       "15    23         NaN                         NaN   \n",
       "16    24         NaN                         NaN   \n",
       "17    25         NaN                         NaN   \n",
       "18    26         NaN                         NaN   \n",
       "19    28         NaN                         NaN   \n",
       "..   ...         ...                         ...   \n",
       "330  477  armageddon                  California   \n",
       "332  479  armageddon                         NaN   \n",
       "333  480  armageddon  The Orwellion police-state   \n",
       "334  481  armageddon                 Castaic, CA   \n",
       "335  482  armageddon           Helsinki, Finland   \n",
       "\n",
       "                                                  text  target  \n",
       "15                                      What's up man?       0  \n",
       "16                                       I love fruits       0  \n",
       "17                                    Summer is lovely       0  \n",
       "18                                   My car is so fast       0  \n",
       "19                        What a goooooooaaaaaal!!!!!!       0  \n",
       "..                                                 ...     ...  \n",
       "330  Check out #PREPPERS #DOOMSDAY MUST HAVE LIBRAR...       0  \n",
       "332  So the Ahamedis think the Messiah had already ...       0  \n",
       "333  Sadly How Windows 10 Reveals Microsoft's Ethic...       0  \n",
       "334      Armageddon averted by El Patron\\n#UltimaLucha       0  \n",
       "335  @samihonkonen If you have the time (23 hours ?...       0  \n",
       "\n",
       "[200 rows x 5 columns]"
      ]
     },
     "execution_count": 107,
     "metadata": {},
     "output_type": "execute_result"
    }
   ],
   "source": [
    "df_fake.head(200)"
   ]
  },
  {
   "cell_type": "code",
   "execution_count": 127,
   "metadata": {},
   "outputs": [],
   "source": [
    "tweet_real = df_real['text']\n",
    "tweet_fake = df_fake['text']\n"
   ]
  },
  {
   "cell_type": "code",
   "execution_count": 128,
   "metadata": {
    "collapsed": true,
    "jupyter": {
     "outputs_hidden": true
    }
   },
   "outputs": [
    {
     "data": {
      "text/plain": [
       "[\"What's up man?\",\n",
       " 'I love fruits',\n",
       " 'Summer is lovely',\n",
       " 'My car is so fast',\n",
       " 'What a goooooooaaaaaal!!!!!!',\n",
       " 'this is ridiculous....',\n",
       " 'London is cool ;)',\n",
       " 'Love skiing',\n",
       " 'What a wonderful day!',\n",
       " 'LOOOOOOL',\n",
       " \"No way...I can't eat that shit\",\n",
       " 'Was in NYC last week!',\n",
       " 'Love my girlfriend',\n",
       " 'Cooool :)',\n",
       " 'Do you like pasta?',\n",
       " 'The end!',\n",
       " 'We always try to bring the heavy. #metal #RT ',\n",
       " 'Crying out for more! Set me ablaze',\n",
       " 'On plus side LOOK AT THE SKY LAST NIGHT IT WAS ABLAZE ',\n",
       " \"@PhDSquares #mufc they've built so much hype around new acquisitions but I doubt they will set the EPL ablaze this season.\",\n",
       " 'Ablaze for you Lord :D',\n",
       " 'Check these out:     #nsfw',\n",
       " \"on the outside you're ablaze and alive\\nbut you're dead inside\",\n",
       " 'Had an awesome time visiting the CFC head office the ancop site and ablaze. Thanks to Tita Vida for taking care of us ??',\n",
       " 'SOOOO PUMPED FOR ABLAZE ???? @southridgelife',\n",
       " 'I wanted to set Chicago ablaze with my preaching... But not my hotel! ',\n",
       " 'I gained 3 followers in the last week. You? Know your stats and grow with ',\n",
       " 'Building the perfect tracklist to life leave the streets ablaze',\n",
       " 'Check these out:     #nsfw',\n",
       " \"First night with retainers in. It's quite weird. Better get used to it; I have to wear them every single night for the next year at least.\",\n",
       " 'SANTA CRUZ \\x89ÛÓ Head of the St Elizabeth Police Superintendent Lanford Salmon has r ... -  ',\n",
       " \"Noches El-Bestia '@Alexis_Sanchez: happy to see my teammates and training hard ?? goodnight gunners.?????? \",\n",
       " 'Set our hearts ablaze and every city was a gift And every skyline was like a kiss upon the lips @\\x89Û_ ',\n",
       " \"They sky was ablaze tonight in Los Angeles. I'm expecting IG and FB to be filled with sunset shots if I know my peeps!!\",\n",
       " 'Revel in yours wmv videos by means of mac farewell ablaze wmv en route to dvd: GtxRWm',\n",
       " \"Progressive greetings!\\n\\nIn about a month students would have set their pens ablaze in The Torch Publications'... \",\n",
       " 'Rene Ablaze &amp; Jacinta - Secret 2k13 (Fallen Skies Edit) - Mar 30 2013  ',\n",
       " '#NowPlaying: Rene Ablaze &amp; Ian Buff - Magnitude   #EDM',\n",
       " \"@ablaze what time does your talk go until? I don't know if I can make it due to work.\",\n",
       " \"'I can't have kids cuz I got in a bicycle accident &amp; split my testicles. it's impossible for me to have kids' MICHAEL YOU ARE THE FATHER\",\n",
       " ' Had a #personalinjury accident this summer? Read our advice &amp; see how a #solicitor can help #OtleyHour',\n",
       " '#stlouis #caraccidentlawyer Speeding Among Top Causes of Teen Accidents   Car Accident tee\\x89Û_',\n",
       " 'RT @SleepJunkies: Sleeping pills double your risk of a car accident ',\n",
       " \"'By accident' they knew what was gon happen \",\n",
       " \"mom: 'we didn't get home as fast as we wished' \\nme: 'why is that?'\\nmom: 'there was an accident and some truck spilt mayonnaise all over ??????\",\n",
       " 'Can wait to see how pissed Donnie is when I tell him I was in ANOTHER accident??',\n",
       " '???? it was an accident ',\n",
       " 'Has an accident changed your life? We will help you determine options that can financially support life care plans and on-going treatment.',\n",
       " '@flowri were you marinading it or was it an accident?',\n",
       " 'I still have not heard Church Leaders of Kenya coming forward to comment on the accident issue and disciplinary measures#ArrestPastorNganga',\n",
       " '@afterShock_DeLo scuf ps live and the game... cya',\n",
       " \"'The man who can drive himself further once the effort gets painful is the man who will win.' \\nRoger Bannister\",\n",
       " '320 [IR] ICEMOON [AFTERSHOCK] |  | @djicemoon | #Dubstep #TrapMusic #DnB #EDM #Dance #Ices\\x89Û_ ',\n",
       " \"'There is no victory at bargain basement prices.' Dwight David Eisenhower\",\n",
       " '320 [IR] ICEMOON [AFTERSHOCK] |  | @djicemoon | #Dubstep #TrapMusic #DnB #EDM #Dance #Ices\\x89Û_ ',\n",
       " \"'Nobody remembers who came in second.' Charles Schulz\",\n",
       " '@afterShock_DeLo im speaking from someone that is using a scuf on xb1 most of them people will end up getting on for ps also.',\n",
       " \"'The harder the conflict the more glorious the triumph.' Thomas Paine\",\n",
       " \"#GrowingUpSpoiled going clay pigeon shooting and crying because of the 'aftershock'\",\n",
       " 'So i guess no one actually wants any free Aftershock TC.....',\n",
       " \"Aftershock was the most terrifying best roller coaster I've ever been on. *DISCLAIMER* I've been on very few.\",\n",
       " 'Aftershock ',\n",
       " '320 [IR] ICEMOON [AFTERSHOCK] |  | @djicemoon | #Dubstep #TrapMusic #DnB #EDM #Dance #Ices\\x89Û_ ',\n",
       " '320 [IR] ICEMOON [AFTERSHOCK] |  | @djicemoon | #Dubstep #TrapMusic #DnB #EDM #Dance #Ices\\x89Û_ ',\n",
       " '320 [IR] ICEMOON [AFTERSHOCK] |  | @djicemoon | #Dubstep #TrapMusic #DnB #EDM #Dance #Ices\\x89Û_ ',\n",
       " \"@KJForDays I'm seeing them and Issues at aftershock ??\",\n",
       " '320 [IR] ICEMOON [AFTERSHOCK] |  | @djicemoon | #Dubstep #TrapMusic #DnB #EDM #Dance #Ices\\x89Û_ ',\n",
       " '320 [IR] ICEMOON [AFTERSHOCK] |  | @djicemoon | #Dubstep #TrapMusic #DnB #EDM #Dance #Ices\\x89Û_ ',\n",
       " '#WisdomWed BONUS - 5 Minute Daily Habits that could really improve your life. How many do you already do? #lifehacks ',\n",
       " 'Aftershock: Protect Yourself and Profit in the Next Global Financial Meltdown by David Wiedemer http ',\n",
       " 'That moment when you get on a scary roller coaster and the guy behind you is just screaming bloody murder ?????? #silverwood #aftershock',\n",
       " 'Aftershock \\x89ã¢ (2010) Full\\x89ã¢ Streaming - YouTube ',\n",
       " '&gt;&gt; $15 Aftershock : Protect Yourself and Profit in the Next Global Financial... ##book \\n@esquireattire',\n",
       " \"Sometimes you face difficulties not because you're doing something wrong but because you're doing something right. - Joel Osteen\",\n",
       " \"'The only thing that stands between you and your dream is the will to try and the belief that it is actually possible.' - Joel Brown\",\n",
       " 'Praise God that we have ministry that tells it like it is!!! #now #wdyouth #biblestudy ',\n",
       " \"'Remembering that you are going to die is the best way I know to avoid the trap of thinking you have something to lose.' \\x89ÛÒ Steve Jobs\",\n",
       " 'Tried orange aftershock today. My life will never be the same',\n",
       " '@OnFireAnders I love you bb',\n",
       " 'Aftershock ',\n",
       " 'Aftershock back to school kick off was great. I want to thank everyone for making it possible. What a great night.',\n",
       " 'People who say it cannot be done should not interrupt those who are doing it. \\x89ÛÒ George Bernard Shaw',\n",
       " \"'The first man gets the oyster the second man gets the shell.' Andrew Carnegie\",\n",
       " 'Anyone need a P/U tonight? I play Hybrid Slayer ps4 EU. HMU @Cod8sandscrims @EmpirikGaming @CoDAWScrims @4TP_KOTC @4TPFA @afterShock_Org',\n",
       " '@crobscarla your lifetime odds of dying from an airplane accident are 1 in 8015.',\n",
       " 'I almost sent my coworker nudes on accident thank god for airplane mode',\n",
       " \"@mickinyman @TheAtlantic That or they might be killed in an airplane accident in the night a car wreck! Politics at it's best.\",\n",
       " 'My phone looks like it was in a car ship airplane accident. Terrible',\n",
       " \"Statistically I'm at more of risk of getting killed by a cop than I am of dying in an airplane accident.\",\n",
       " 'Leading emergency services boss welcomes new ambulance charity ',\n",
       " 'AMBULANCE SPRINTER AUTOMATIC FRONTLINE VEHICLE CHOICE OF 14 LEZ COMPLIANT | eBay ',\n",
       " 'New Nanotech Device Will Be Able To Target And Destroy Blood Clots ',\n",
       " 'If I get run over by an ambulance am I lucky? #justsaying #randomthought',\n",
       " '@TanSlash waiting for an ambulance',\n",
       " '@fouseyTUBE you ok? Need a ambulance. Hahahah that was good! ',\n",
       " 'AMBULANCE SPRINTER AUTOMATIC FRONTLINE VEHICLE CHOICE OF 14 LEZ COMPLIANT | eBay ',\n",
       " '@TheNissonian @RejectdCartoons nissan are you ok do you need medical assistance i can call an ambulance if you need me to',\n",
       " 'EMS1: NY EMTs petition for $17 per hour \\x89Û÷minimum wage\\x89Ûª  #ems #paramedics #ambulance',\n",
       " 'AMBULANCE SPRINTER AUTOMATIC FRONTLINE VEHICLE CHOICE OF 14 LEZ COMPLIANT | eBay ',\n",
       " 'AMBULANCE SPRINTER AUTOMATIC FRONTLINE VEHICLE CHOICE OF 14 LEZ COMPLIANT | eBay ',\n",
       " \"@Kiwi_Karyn Check out what's in my parking lot!! He said that until last year it was an ambulance in St Johns. \",\n",
       " 'Why is there an ambulance right outside my work',\n",
       " \"\\x89ÛÏ@LeoBlakeCarter: This dog thinks he's an ambulance ?????? \",\n",
       " 'HAPPENING NOW - HATZOLAH EMS AMBULANCE RESPONDING WITH DUAL SIRENS AND\\x89Û_ ',\n",
       " \"What's the police or ambulance number in Lesotho? Any body know?\",\n",
       " '@medic914 @AACE_org I am surprised we still cannot standardised the clinical practice across the 11 NHS ambulance trust.',\n",
       " 'People who try to j-walk while an ambulance is passing... I hate you.',\n",
       " 'The episode where Trunks annihilated Freiza is the cleanest shit ever. He showed that nigga no mercy.',\n",
       " 'THEY SHALL BE ANNIHILATED AND ALL OF THEIR PETEBESTS DESSICATED AND LAID BARE. THEN YOU SHALL KNEEL BEFORE ME.',\n",
       " 'Uribe just annihilated that baseball. #Mets',\n",
       " '@marksmaponyane Hey!Sundowns were annihilated in their previous meeting with Celtic.Indeed its an improvement.',\n",
       " \"@Volfan326 @TNeazzy Mizzou has annihilated florida the past 2 seasons even ended muschamp's career just can't compete with Bama\",\n",
       " 'Be annihilated for status education mba on behalf of a on easy street careen: eOvm ',\n",
       " '*to Luka* They should all die! All of them! Everything annihilated! - Alois Trancy',\n",
       " \"@ACarewornHeart Have a good un fella sorry I won't be there to get annihilated with you :(\",\n",
       " 'You must be annihilated!',\n",
       " 'BOOM! Your country was just entirely annihilated by a h\\x89Û_ \\x89ÛÓ Britain ',\n",
       " '@AmirKingKhan you would have been annihilated so you might as well thank @FloydMayweather',\n",
       " 'One thing for sure-God has promised Israel will not be annihilated. But...the horror of Iran w/nukes. ',\n",
       " 'day 1 of tryouts went good minus the fact I stopped quickly to get a short ball and Annihilated my toenail injury even more',\n",
       " \"(To Luka) 'They should all die! All of them! Everything annihilated!' - Alois Trancy -\",\n",
       " 'Domain other sophistication be annihilated closely up-to-the-minute feat: ZrNf',\n",
       " '@stormbeard @steel_lord I seen Judas Priest in 2005 when Rob came back; Scorpions as support. Fucking annihilated the place. Astonishing gig',\n",
       " \"Officially skipping out on #FantasticFour/#Fant4stic/whatever the hashtag is. It's getting ANNIHILATED in reviews. Bummer.\",\n",
       " 'just completely annihilated cech with paul keegan what a time to be alive',\n",
       " \"@TomcatArts 'who then were annihilated by the legion itself. The survivors of the imperfect hybrid project quickly formed a new secret cell\",\n",
       " \"@SirBrandonKnt exactly. That's why the lesnar/cena match from summerslam last year was so great because Brock annihilated a guy who's\",\n",
       " \"@thatdes ok i wasn't completely forthright i may have also been in a food coma bc of the kebab/tahini/pickles i also annihilated w/fries\",\n",
       " 'A fun filled happy-hour at Simmons bar in Camden with this handsome one ?? (I got annihilated apart from this game) ',\n",
       " 'Juanny Beisbol Sr. Annihilated that ball. #LGM',\n",
       " \"@POTUS Maybe we should call Israel and tell them we're sorry are Pres has sold them down the river to annihilation.\",\n",
       " 'Evildead - Annihilation of Civilization ',\n",
       " 'U.S National Park Services Tonto National Forest: Stop the Annihilation of the Salt River Wild Horse...  via @Change',\n",
       " 'World Annihilation vs Self Transformation  Aliens Attack to Exterminate Humans ',\n",
       " 'U.S National Park Services Tonto National Forest: Stop the Annihilation of the Salt River Wild Horse...  via @Change',\n",
       " '@KimKardashian can you please sign and share this petition to save wild horses in Arizona.  ????',\n",
       " '@TheEllenShow Please check into Salt River horses help stop the annihilation about to happen without 54000 more signatures.change .org Thx',\n",
       " 'Are souls punished withåÊannihilation?  ',\n",
       " 'I reject the laws of the misguided false prophets imprison nations fueling self annihilation',\n",
       " 'U.S National Park Services Tonto National Forest: Stop the Annihilation of the Salt River Wild Horse...  via @Change',\n",
       " 'The annihilation of Jeb Christie &amp; Kasich is less than 24 hours away..\\nPlease God allow me at least one more full day...',\n",
       " '@Barbi_Twins We need help-horses will die! Please RT &amp; sign petition! Take a stand &amp; be a voice for them! #gilbert23 ',\n",
       " '@Whippenz We need help! Horses will die!Please RT &amp; sign petition!Take a stand &amp; be a voice for them! #gilbert23 ',\n",
       " 'Hey #AZ: Sign this petition to save the #WildHorses @ #TantoNationalForest! A @RollingStones sing-a-long is in order: ',\n",
       " \"@SonofBaldwin and he's the current Nova in the bookslast I checked..he was tied into the books in 2011 after Rider died during Annihilation\",\n",
       " 'U.S National Park Services Tonto National Forest: Stop the Annihilation of the Salt River Wild Horse...  via @Change',\n",
       " 'Please sign &amp; RT to save #SaltRiverWildHorses  ',\n",
       " 'THANKS!!!!! @COUNT DANTE.  :)  DO JOIN US BY FOLLOWING THE @ANNIHILATION ZONE.  JOHNNY.',\n",
       " 'U.S National Park Services Tonto National Forest: Stop the Annihilation of the Salt River Wild Horse...  via @Change',\n",
       " \"I'm gonna fight Taylor as soon as I get there.\",\n",
       " 'will there be another jocelyn birthday apocalypse',\n",
       " \"RT: janenelson097: RT StephenSCIFI: Adaptation Watch: Charlie Human's APOCALYPSE NOW NOW Optioned for Film #sciencefiction \\x89Û_\",\n",
       " 'Apocalypse please',\n",
       " '@HoneyBunzGem @primalkitchen I feel like me doing a pull-up is one of the stages of the Apocalypse.',\n",
       " \"She's kinda hot played on the radio today. What's next? Disease to all? The apocalypse has started everyone. Be careful.\",\n",
       " \"But if it's the apocalypse lol gf m8\",\n",
       " 'Julie + R is the apocalypse version of Romeo + Juliet #warmbodies',\n",
       " 'the apocalypse is upon us',\n",
       " 'RT: fittscott: Minecraft- NIGHT LUCKY BLOCK MOD (BOB APOCALYPSE WITHER 2.0 &amp; MORE!) Mod Showcase Popularmmos:  vi\\x89Û_',\n",
       " 'RT: Our_Mother_Mary: Short Reading\\n\\nApocalypse 21:1023 \\n\\nIn the spirit the angel took me to the top of an enormous high mountain and... \\x89Û_',\n",
       " 'candylit: Imagine sarumi in a zombie apocalypse Fighting back to back Heart to heart conversations over the... ',\n",
       " 'RT: ZONEWolf123: I liked a YouTube video  Minecraft: NIGHT LUCKY BLOCK MOD (BOB APOCALYPSE WITHER 2.0 &amp; MORE!) Mo\\x89Û_',\n",
       " \"And that's because on my planet it's the lone audience of the apocalypse!\",\n",
       " \"@alexandrapullin It is indeed. If the apocalypse comes this week I know where I'll be :)\",\n",
       " 'GO LOOK AT GRIZZLY PEAK RIGHT NOW... It looks like the beginning of an dystopian apocalypse movie',\n",
       " \"My niece just asked me 'would you be scared if there was an apocalypse here?' ????\",\n",
       " 'Minecraft- NIGHT LUCKY BLOCK MOD (BOB APOCALYPSE WITHER 2.0 &amp; MORE!) Mod Showcase Popularmmos:  via @YouTube',\n",
       " 'Shot Through The Heart XV: You are going to totally give love a bad name with this heart pierc  ',\n",
       " 'RT: Geek_Apocalypse: 4pm GMT :Hesse plays dark souls 2 day 9:   #etcPB',\n",
       " 'I know where to go when the zombies take over!! ',\n",
       " \"Enjoyed live-action Attack on Titan but every time I see posters I'm reminded how freshly clean and coiffed everyone is in the apocalypse.\",\n",
       " 'I liked a @YouTube video  Minecraft: NIGHT LUCKY BLOCK MOD (BOB APOCALYPSE WITHER 2.0 &amp; MORE!) Mod Showcase',\n",
       " \"#PBBan (Temporary:300) avYsss @'aRmageddon | DO NOT KILL | FLAGS ONLY | Fast XP' for Reason\",\n",
       " \"#PBBan (Temporary:300) Russaky89 @'aRmageddon | DO NOT KILL | FLAGS ONLY | Fast XP' for Reason\",\n",
       " '((OFFICIAL VID)) #DoubleCups &gt;&gt;  &gt;&gt; @TrubGME Prod @THISIZBWRIGHT &gt;&gt; #ARMAGEDDON',\n",
       " 'ouvindo Peace Love &amp; Armageddon',\n",
       " \"Best movie you've ever seen? - Armageddon  \",\n",
       " \"Bed time. Don't wake me up unless revolution or Armageddon start.\",\n",
       " 'Red Faction: Armageddon  (Microsoft Xbox 360 2011) - Full read by eBay  ',\n",
       " '@KatieKatCubs you already know how this shit goes. World Series or Armageddon.',\n",
       " 'RT @Ophiuchus2613: #Love #TrueLove #romance lith  #Voodoo #seduction #Astrology #RTRRT #LOTZ 9-11 #apocalypse #Armageddon #1008pla\\x89Û_',\n",
       " '//im gonna beat armageddon as Hsu Hao ????\\njust got a flawless on my first try',\n",
       " \"@ENews Ben Affleck......I know there's a wife/kids and other girls but I can't help it. I've loved him since Armageddon #eonlinechat\",\n",
       " \"'If I'd have had a long coat to hand I'd have worn it. The certainty of armageddon bears a sense of occasion.'\",\n",
       " 'YOUR PHONE IS SPYING ON YOU! Hidden Back Door NSA Data Mining Software | THE FINANCIAL ARMAGEDDON BLOG ',\n",
       " 'RT @RTRRTcoach: #Love #TrueLove #romance lith  #Voodoo #seduction #Astrology #RTRRT #LOTZ 9-11 #apocalypse #Armageddon #1008planet\\x89Û_',\n",
       " \"#PBBan (Temporary:300) fighterdena @'aRmageddon | DO NOT KILL | FLAGS ONLY | Fast XP' for Reason\",\n",
       " 'Photo: Sketch I did based on the A Taste of Armageddon episode of #startrek #tos ',\n",
       " '@AberdeenFC @AberdeenFanPage \\n\\nGood luck to the ?????? tomorrow night \\n\\nGet some coefficient points plz \\n@Armageddon????',\n",
       " '@paddytomlinson1 ARMAGEDDON',\n",
       " \"@RohnertParkDPS You're another one for the history books! (Thank the Justice Department!) And by the way I haven't paid income tax in 20yrs.\",\n",
       " \"God's Kingdom (Heavenly Gov't) will rule over all people on the earth after Armageddon.    \",\n",
       " 'L B #Entertainment lot of 8 #BruceWillis MOVIES #DVD DIE HARD 1 2 12 MONKEYS ARMAGEDDON SIXTH #eBay #Auction ',\n",
       " 'Let\\x89Ûªs talk some more about your goof guild Saunders. Come right up here on stage. ',\n",
       " \"@Karnythia my niece is gaining the ability to stand. I'm getting prepared for toddler apocalypse Armageddon\",\n",
       " 'Check out #PREPPERS #DOOMSDAY MUST HAVE LIBRARY COLLECTION ON CD #shtf #preppertalk #survival #2A #prepper  via @eBay',\n",
       " 'So the Ahamedis think the Messiah had already come 125 years ago? Where is Armageddon? Where is the Dajaal? Where is Gog &amp; Magog?!',\n",
       " \"Sadly How Windows 10 Reveals Microsoft's Ethics Armageddon \",\n",
       " 'Armageddon averted by El Patron\\n#UltimaLucha',\n",
       " '@samihonkonen If you have the time (23 hours ??) the latest series about WW1 Blueprint for Armageddon is extremely impressive.',\n",
       " 'European Fitba till Christmas  ARMAGEDDON',\n",
       " '#Christians United for #Israel (#CUFI): Jews should convert soon or die by armageddon  #US ',\n",
       " '(OFFICIAL VID) &gt; #DoubleCups &gt;&gt;  &gt;&gt; @TrubGME Prod @THISIZBWRIGHT &gt;&gt; #ARMAGEDDON                 .',\n",
       " 'Tomorrow is the day we start armageddon #preseasonworkouts ????',\n",
       " 'Lee does comedy: \\x89ÛÏ@LeeJasper: Working class Tories prepare for your Armageddon. #InterestRateRise\\x89Û\\x9d',\n",
       " '9 Charts Prove Financial Crisis Part 2 Has BEGUN!: The Financial Armageddon Economic Collapse Blog tracks tren... ',\n",
       " \"@RohnertParkDPS You're on stage now! Right under the lights! Isn't it funny?! Where do you get the goofballs with which you staff your PD?\",\n",
       " '**OFFICIAL VID** #TheReal &gt;&gt;&gt;  &gt;&gt;&gt; @TrubGME &gt;&gt;&gt; #ARMAGEDDON Comin Soon!!',\n",
       " 'Well done Celtic Fingers crossed for Aberdeen tomorrow night! \\nArmageddon eh.... ??',\n",
       " 'Beyonce Is my pick for  Fan Army #Beyhive  77',\n",
       " 'One Direction Is my pick for  Fan Army #Directioners  x1402',\n",
       " '5 Seconds of Summer Is my pick for  Fan Army #5SOSFAM ',\n",
       " '22.Beyonce Is my pick for  Fan Army #Beyhive ',\n",
       " '17.Beyonce Is my pick for  Fan Army #Beyhive ',\n",
       " 'One Direction Is my pick for  Fan Army #Directioners  x1411',\n",
       " 'Seeing that army of whitewalkers was the very first thing that has slightly intrigued me on GoT so far',\n",
       " 'Build your own kingdom and lead your army to victory! \\n\\nStart g this friend code: LZKTJNOX ',\n",
       " 'Vote for #Directioners vs #Queens in the 5th round of the @Billboard #FanArmyFaceOff ',\n",
       " \"'Show Me a Hero': TV Review  \",\n",
       " 'INFANTRY Mens Lume Dial Army Analog Quartz Wrist Watch Sport Blue Nylon Fabric  - Full rea\\x89Û_  ',\n",
       " 'One Direction Is my pick for  Fan Army #Directioners  x1441',\n",
       " '.: .: .: .: .: .: .: .: .: .: .: .: .: .: .: .: .: .: .: .: .: RT DrAyesha4: #IndiaKoMunTorJawabDo\\n\\nIndian Army ki\\x89Û_ ',\n",
       " '5 Seconds of Summer Is my pick for  Fan Army #5SOSFAM   ÌÑ1',\n",
       " 'Beyonce Is my pick for  Fan Army #Beyhive  78',\n",
       " 'One Direction Is my pick for  Fan Army #Directioners  x1386',\n",
       " 'You da One \\n\\n#MTVSummerStar #VideoVeranoMTV  #MTVHottest Britney Spears Lana Del Rey',\n",
       " 'One Direction Is my pick for  Fan Army #Directioners ',\n",
       " \"Stony Jackson is America's last hope as he leads an army of felons thus and army rejects against the army o Satan - \",\n",
       " 'WWI WWII JAPANESE ARMY NAVY MILITARY JAPAN LEATHER WATCH WAR MIDO WW1 2 - Full read by eBay  ',\n",
       " 'Beyonce Is my pick for  Fan Army #Beyhive  72',\n",
       " '7.Beyonce Is my pick for  Fan Army #Beyhive ',\n",
       " 'Beyonce Is my pick for  Fan Army #Beyhive  66',\n",
       " '6.Beyonce Is my pick for  Fan Army #Beyhive ',\n",
       " 'POTUS appoints Brig. Gen. Richard G. Kaiser as member of the Mississippi River Commission. Learn more about the MRC: ',\n",
       " 'WWI WWII JAPANESE ARMY NAVY MILITARY JAPAN LEATHER WATCH WAR MIDO WW1 2 - Full read by eBay  ',\n",
       " 'WWI WWII JAPANESE ARMY NAVY MILITARY JAPAN LEATHER WATCH WAR MIDO WW1 2 - Full read by eBay  ',\n",
       " 'One Direction Is my pick for  Fan Army #Directioners  x1434',\n",
       " 'One Direction Is my pick for  Fan Army #Directioners ',\n",
       " 'Two Jewish Terrorists Charged In Historic-Church Arson | The Ugly Truth  ',\n",
       " 'Add Familia to the arson squad.',\n",
       " 'The Sound of Arson',\n",
       " 'Owner of Chicago-Area Gay Bar Admits to Arson Scheme  #LGBT | ',\n",
       " 'Wait What???  ',\n",
       " 'Mourning notices for stabbing arson victims stir \\x89Û÷politics of grief\\x89Ûª in Israel: Posters for Shira Banki and A... ',\n",
       " 'Owner of Chicago-Area Gay Bar Admits to Arson Scheme  via @theadvocatemag #LGBT',\n",
       " '@sayn_ae angel or arson',\n",
       " 'Owner of Chicago-Area Gay Bar Admits to Arson Scheme  via @theadvocatemag #LGBT | ',\n",
       " 'Owner of Chicago-Area Gay Bar Admits to Arson Scheme  #LGBT | ',\n",
       " '#NOWPLAYING Arsonist MC -  So Impressed -  @ARSONISTMUSIC ',\n",
       " '@Safyuan just a minor citation for possesion of a decriminalized substance im not facing any time',\n",
       " '@local_arsonist @diamorfiend the legal system NEVER forgets',\n",
       " '@Casper_rmg u on dick',\n",
       " 'Bloor/Ossington arsonist also burned a mattress on Northumberland St #cbcto ',\n",
       " \"'wHeRE's mY aRsOnISt aT???'\",\n",
       " \"If you don't have anything nice to say you can come sit with me.\",\n",
       " '#Vegetarian #Vegan Video shows arsonist torching popular BK restaurant Strictly Vegetarian...  #GoVegan #UniteBlue',\n",
       " 'Video Captures Man Removing American Flag From Long Beach CA Home Burning It; Arsonist Sought  ',\n",
       " '@58hif my trick is to think about nasty things',\n",
       " '#Spotlight Take Me To Paradise by Arsonist MC #WNIAGospel  @arsonistmusic ',\n",
       " 'who makes these? ',\n",
       " 'on town of salem i just melted ice cube bc im the arsonist :D',\n",
       " 'Arsonists being blamed for a blaze at a plastics recycling business in Adelaide | @pcaldicott7 reports. #7NewsAdl ',\n",
       " 'i be on that hotboy shit',\n",
       " 'Zodiac Girl feat Trey Dupree (Produced By Sparkz Beatz) | Chuck Da Arsonist ',\n",
       " '@local_arsonist LMFAO',\n",
       " '@_Doofus_ @diamorfiend im jokin still cant be on moves:/',\n",
       " \"@local_arsonist I guess u can say that it's just some shit I was thinking about\",\n",
       " 'I liked a @YouTube video from @slimebeast  Town of Salem | How to Win as The Arsonist',\n",
       " '@Casper_rmg @BestComedyVine whats cracking cuz',\n",
       " 'smoke good fuck eat drink drive nice car wear all green mink',\n",
       " 'kill i got court the day after earl',\n",
       " '@local_arsonist lmao but real live you should go',\n",
       " 'Owner of Chicago-Area Gay Bar Admits to Arson Scheme: Frank Elliott pleaded guilty to hiring an arsonist to to... ',\n",
       " 'Trusting Iran to stop terrorism is like inviting an arsonist to join the fire brigade - Telegraph ',\n",
       " 'Credit to @pfannebeckers for inspiring me to rediscover this fantabulous #tbt ',\n",
       " 'Demi stans really think Heart Attack sold 5/6 million copies ??',\n",
       " '@DatTomm the funniest part about that twitter is the feminists that try to attack it 4Head',\n",
       " \"Just had a heart attack because I thought my goat was dead. ???? don't worry Rocket is okay. ??\",\n",
       " \"I'm not gonna lie I'm kinda ready to attack my Senior year ??????????\",\n",
       " \"'Left hand side of a diamond is a graveyard shift have to attack and defend'\\nThe right handside no have to do that too you fucking idiot?\",\n",
       " '@CaIxxum5SOS thanks for the damn heart attack',\n",
       " '@blazerfan not everyone can see ignoranceshe is Latinoand that is All she can ever benothing morebut an attack dog 4 a hate group GOP',\n",
       " 'Heart disease prevention: What about secondhand smoke? ',\n",
       " \"Attack on Titan game on PS Vita yay! Can't wait for 2016\",\n",
       " 'anxiety attack ??',\n",
       " 'My dog attacked me for my food #pugprobs',\n",
       " '@envw98 @NickCoCoFree @JulieDiCaro @jdabe80 I asked how did he feel attacked by julie.  I asked if he was frail.   That is all.',\n",
       " '@messeymetoo I feel attacked',\n",
       " \"I'm feeling so attacked \",\n",
       " \"Once again black men didn't make it that way. White men did so why are black men getting attacked  \",\n",
       " \"I cant believe a fucking cis female is going to somehow claim to be offended over a transgendered female who's been attacked by media\",\n",
       " '#TBT Remember that time Patrick Kane attacked a cab driver over .20',\n",
       " 'im feeling attacked ',\n",
       " 'IK Only Troll His Pol Rivals Never Literally Abused Them Or Attacked Their Families. While All Of Them Literally Abuse IK. Loosers',\n",
       " '@envw98 @NickCoCoFree @JulieDiCaro @jdabe80 Why am I the worst person? Questioning how julie attacked him?  Do you guys have no empathy?',\n",
       " \"@eunice_njoki aiii she needs to chill and answer calmly its not like she's being attacked\",\n",
       " \"I attacked Robot-lvl 19 and I've earned a total of 6615434 free satoshis!  #robotcoingame #Bitcoin #FreeBitcoin\",\n",
       " '@christinalavv @lindsay_wynn3 I just saw these tweets and I feel really attacked',\n",
       " '@MageAvexis &lt; things. And what if we get attacked?',\n",
       " '#WeLoveLA #NHLDucks Avalanche Defense: How They Match vs St. Louis Blues  #SportsRoadhouse',\n",
       " \"I liked a @YouTube video  Kalle Mattson - 'Avalanche' (Official Video)\",\n",
       " \"we'll crash down like an avalanche\",\n",
       " \"#Colorado #Avalanche Men's Official Colorado Avalanche Reebok T-Shirt XL Blue 100% Cotton  #NHL #Hockey\",\n",
       " '2 TIX 10/3 Frozen Fury XVII: Los Angeles Kings v Avalanche 103 Row:AA MGM Grand ',\n",
       " 'I BET YOU DIDNT KNOW I KICK BOX TOO! ',\n",
       " \"A little piece I wrote for the Avalanche Designs blog! I'd appreciate it greatly if you checked it out :-)  \",\n",
       " 'PATRICK ROY 1998-99 UPPER DECK SPX #171 FINITE 1620 MADE COLORADO AVALANCHE MINT  ',\n",
       " \"Musician Kalle Mattson Recreates 34 Classic Album Covers in Clever Music Video for 'Avalanche' \",\n",
       " 'Beautiful Sweet Avalanche Faith and Akito roses with lots of frothy gyp.  #weddinghour ',\n",
       " '1-6 TIX Calgary Flames vs COL Avalanche Preseason 9/29 Scotiabank Saddledome ',\n",
       " 'Secrets up avalanche: catechize inner self for the confidential communication as respects creating worth in len...',\n",
       " 'the fall of leaves from a poplar is as fully ordained as the tumbling of an avalanche - Spurgeon',\n",
       " 'I saw two great punk bands making original music last week. Check em out here!! @GHOSTOFTHEAV @MontroseBand ',\n",
       " 'GREAT PERFORMANCE CHIP FUEL/GAS SAVER CHEVY TAHOE/BLAZER/AVALANCHE/S-10  ',\n",
       " 'Musician Kalle Mattson Recreates 34 Classic Album Covers in Clever Music Video for \\x89Û÷Avalanche\\x89Ûª ',\n",
       " 'Free Ebay Sniping RT?  Chevrolet : Avalanche Ltz Lifted 4x4 Truck ?Please Favorite &amp; Share',\n",
       " \"Paul Rudd Emile Hirsch David Gordon Green 'Prince Avalanche' Q&amp;A | Filmmakers at Google   #entretenimento #Video\",\n",
       " 'Great one time deal on all Avalanche music and with purchase get a Neal Rigga shirt ',\n",
       " '.@bigperm28 was drafted by the @Avalanche in 2005 (rd. 4 #124) overall. Played last season in @UtahGrizz. ',\n",
       " 'I HAVE GOT MORE VIDEOS THAN YOU RAPPERS GOT SONGS! ',\n",
       " '@funkflex yo flex im here ',\n",
       " \"You are the avalanche. One world away. My make believing. While I'm wide awake.\",\n",
       " 'The possible new jerseys for the Avalanche next year. ???? ',\n",
       " \"What a feat! Watch the #BTS of @kallemattson's incredible music video for #Avalanche:  ????\",\n",
       " 'No snowflake in an avalanche ever feels responsible.',\n",
       " 'Dragon Ball Z: Battle Of Gods (2014) - Rotten Tomatoes  via @RottenTomatoes',\n",
       " 'I added a video to a @YouTube playlist  World Of Tanks - Battle Assistant Mod Bat Chat Arti kaboom',\n",
       " 'YA BOY CLIP VS 4KUS FULL BATTLE\\n\\n@15MofeRadio @Heavybag201 @battle_dom @QOTRING @BattleRapChris @Hughes1128 \\n\\n',\n",
       " \"It's baaaack!  Petersen's Bowhunting Battle of the Bows.  Make sure you head on over and cast your vote for your... \",\n",
       " \"#Tb #throwback ??\\n\\n??~ You want a battle? Here's a War! ~ ?? \",\n",
       " 'Kelby Tomlinson mild-mannered 2nd baseman for a great metropolitan team fights a never-ending battle for hits RBI and the #SFGiants way.',\n",
       " 'What really happened in the Taken King Story Trailer. A space battle that ripped a hole in Saturn. @EyTay @neur0sis ',\n",
       " 'THESE AFTER BATTLE ANIMATIONS ARE SO FUCKING MUCH',\n",
       " 'See what happens with NO Battle of the Block @CBSBigBrother!?! ???? finally',\n",
       " '#DU19 who gon get in this rap battle with me',\n",
       " 'Do Your Own Thing: The Battle of Internal vs External Motivation: ',\n",
       " 'Check out this item I just got! [Phantasmal Cummerbund]  #Warcraft',\n",
       " 'I liked a @YouTube video  Marvel VS DC (Avengers Battle!)',\n",
       " '@UtahCanary sigh daily battle.',\n",
       " \"@SexyDragonMagic I've come to the realization that I just don't have the attention span for mass battle games. Both painting and playing.\",\n",
       " '@DetroitPls interested to see who will win this battle',\n",
       " 'Battle of the GOATS  ',\n",
       " 'STAR WARS POWER OF THE JEDI COLLECTION 1 BATTLE DROID HASBRO - Full read by eBay  ',\n",
       " 'Black Eye 9: A space battle occurred at Star O784 involving 2 fleets totaling 4103 ships with 50 destroyed',\n",
       " \"#LonePine remembered around Australia as 'descendants' grow via @666canberra #Gallipoli #WW1\\n \",\n",
       " \"how did I miss that Gary Busey's son plays DIXIE on his electronic green fiddle during the post-battle celebration sequence\",\n",
       " 'FedEx no longer will transport bioterror germs  via @USATODAY',\n",
       " 'USA TODAY: .@FedEx will no longer to transport bioterror pathogens after ... -  #NewsInTweets ',\n",
       " 'FedEx will no longer transport bioterror pathogens in wake of anthrax lab mishaps ',\n",
       " 'FedEx no longer will ship potential bioterror pathogens  via @AtlBizChron',\n",
       " \"#frontpage: #Bioterror lab faced secret sanctions. #RickPerry doesn't make the cut for @FoxNews #GOPDebate  @USATODAY\",\n",
       " 'FedEx no longer to transport bioterror germs in wake of anthrax lab mishaps  via @usatoday',\n",
       " 'RT alisonannyoung: EXCLUSIVE: FedEx no longer to transport research specimens of bioterror pathogens in wake of anthrax lab mishaps \\x89Û_',\n",
       " '#world FedEx no longer to transport bioterror germs in wake of anthrax lab mishaps  ',\n",
       " 'FedEx no longer will ship potential bioterror pathogens - Atlanta Business Chronicle ',\n",
       " 'Thank you @FedEx for no longer shipping live microbes for the Department of Defense\\n\\n',\n",
       " 'FedEx no longer will transport bioterror germs  via @usatoday',\n",
       " '#BreakingNews  FedEx no longer willing to transport research specimens of potential bioter\\x89Û_ ',\n",
       " 'FedEx no longer shipping bioterror germs - WXIA-TV | @scoopit ',\n",
       " 'FedEx no longer to transport bioterror germs in wake of anthrax lab mishaps ',\n",
       " \"Biolab safety concerns grow: FedEx stops transporting certain specimens. Research facilities 'dumbfounded' by action. \",\n",
       " 'Firepower in the lab [electronic resource] : automation in the fight against infectious diseases and bioterrorism /\\x89Û_ ',\n",
       " \"Creation of AI\\nClimate change\\nBioterrorism\\nMass automation of workforce\\nContact with other life\\nWealth inequality\\n\\nYea we've got it easy\",\n",
       " 'In Lies We Trust #dvd CIA Hollywood and Bioterrorism Len Horowitz Vaccines Nwo  ',\n",
       " 'To fight bioterrorism sir.',\n",
       " 'Does This Prepare Us? HHS Selects 9 Regional Special #Pathogen Treatment Centers #Bioterrorism #Infectious #Ebola ',\n",
       " \"70 won 70...&amp; some think possibility of my full transformation is impossible.  I don't quite like medical mysteries. BIOTERRORISM sucks.\",\n",
       " 'How about a book describing the future of therapies technologies sport sexuality bioterrorism and diagnosis? #digitalhealth #hcsm',\n",
       " 'To fight bioterrorism sir.',\n",
       " \"@ONU_France 74/75 Bioterrorism on '@Rockefeller_Chi/@RockefellerUniv'Heiress 2 evade lgl efforts 2 prosecute BLKs 4 @HarvardU kidnap'g.@AFP\",\n",
       " '@Kaotix_Blaze craving u',\n",
       " \"I've been by the pool all day #raisinfingers\",\n",
       " 'Do you know anyone looking to move to Hammond OR? Share this listing! ',\n",
       " 'Life is amazin same time its crazy niggas dey wanna blaze me hate it because i made it all it took was dedication n some motivation',\n",
       " 'Blaze is my bro ',\n",
       " '@Shayoly yes I love it',\n",
       " 'See a virtual tour of one of our listings on 547 Fir St Cannon Beach OR listed by Dorrie Caruana. ',\n",
       " 'Welcome @djryanwolf @djcoreygrand @djknyce @djoneplustwo @OfficialCoreDJs #Family #Cleveland #StandUp @IAMTONYNEAL ',\n",
       " \"@bellalinn alrighty Hit me up and we'll blaze!!\",\n",
       " 'i blaze jays fuck the dutch slave trade.',\n",
       " 'My hair is poverty at the moment need to get a fade before the weekend gets here',\n",
       " 'niggas love hating.',\n",
       " \"@audacityjamesta Don't be like that babes &lt;3 you'll have a ball of fun with me at LAN! :)\",\n",
       " 'I liked a @YouTube video from @iamrrsb  Minecraft Skywars - O BLAZE QUE USA HACK E FLECHADAS SINISTRAS!',\n",
       " 'What Dems do. Blaze covered months ago.Chicago police detained thousands of black Americans at interrogation facility ',\n",
       " \"Yo I got bars and I'm not even a rapper\",\n",
       " 'UGH Y DID BLAZE PUT THE CALORIES BY THEIR PIZZAS? OK COOL #thisispublichealth',\n",
       " 'pic of me and blaze in a fort when we were kids i look like a jackass stuffin my face like that ?????? ',\n",
       " 'looks like a year of writing and computers is ahead. ',\n",
       " '@Beautiful_Juic1 just letting you know',\n",
       " \"@BabySweet420 I'm mad 420 in your name &amp; you don't blaze.\",\n",
       " '@GuiltyGearXXACP yeah I know but blaze blue dont have a twitter lol I drew this a few weeks ago ',\n",
       " '#socialmedia news - New Facebook Page Features Seek to Help Personalize the Customer Experience ',\n",
       " '@DJJOHNBLazE shout out blaze the hottest DJ in the Sothwest',\n",
       " \"I liked a @YouTube video  Minecraft: Episode 2 'Blaze Farm Beginnings!'\",\n",
       " '@ChristyCroley Not in the works yet. Did you see the new Vela Short in Blaze? ',\n",
       " '@UABStephenLong @courtlizcamp Total tweet fail! You are so beautiful inside and out Blaze On!',\n",
       " 'The mixtape is coming i promise. We goin in right now ',\n",
       " '@_itzSteven @xdojjjj @whopper_jr_760 huh?? me you and leo started that last year and ever since people blaze it in the back??',\n",
       " '3 Bedrooms 1 Baths for sale in 29 Palms CA. (\\n(YouTube Video:... ',\n",
       " '?? Yes I do have 2 guns ?? ??',\n",
       " '@a__cee DAEM GIRL SMOOTH ASF c: ?',\n",
       " \" #ArtisteOfTheWeekFact say #Conversations by #coast2coastdjs agree @Crystal_Blaz 's #Jiwonle is a #HipHop #ClubBanger\",\n",
       " 'Bright &amp; BLAZING Fireman Birthday Party  #Weddings',\n",
       " 'REAL ViBEZ RADIO - BLAZING THE BEST VIBEZ!!!  #nowplaying #listenlive',\n",
       " 'Come and join us Tomorrow!\\nAugust 7 2015 at Transcend:Blazing the Trail to the Diversified World of Marketing... ',\n",
       " 'Morgan Silver Dollar 1880 S Gem BU DMPL Cameo Rev Blazing MS+++++ High grade! - Full read \\x89Û_  ',\n",
       " 'Morgan Silver Dollar 1880 S Gem BU DMPL Cameo Rev Blazing MS+++++ High grade! - Full read \\x89Û_  ',\n",
       " \"This bowl got me thinking... Damn I've been blazing for so damn long\",\n",
       " \"@DanRyckert @drewscanlon He's blazing through this game with the best stealth skills yet. Nothing beats the silenced M4.\",\n",
       " 'Bit pacquiao vs marquez 3 unfilled blazing swarm online: DuRvOd ',\n",
       " 'Turn on your radios #stoponesounds is live on your #airwaves  &amp; 107.9 fm @StickyNYC @95roots  blazing all your hits',\n",
       " '@BaseballQuotes1 I have a 32 inch dynasty',\n",
       " \"I'm the only weapons master here! Let's go in guns blazing!\\n#Hinatobot\",\n",
       " '@Blazing_Ben @PattyDs50 @gwfrazee @JoshuaAssaraf Not really. Sadly I have come to expect that from Obama.',\n",
       " 'SHOUOUT TO @kasad1lla CAUSE HER VOCALS ARE BLAZING HOT LIKE THE WEATHER SHES IN',\n",
       " 'S3XLEAK!!!\\nPh0tos of 19yrs old Ash@wo lady in Festac town from Delta exp0sed on BBM 5 leaked pictures... ',\n",
       " 'Oh my heart racing And my temperature is blazing through the roof #VideoVeranoMTV Fifth Harmony',\n",
       " '@omgbethersss @BethanyMota haha love this??',\n",
       " \"@dmac1043 Colorado is a Spanish word ([Latin origin] meaning 'reddish' or 'colored')  all you dummies are pronouncing it wrong!!!\",\n",
       " 'Why Some Traffic Is Freezing Cold And Some Blazing Hot \\x89ÛÒ And How To Heat Up Some Of Your Traffic ',\n",
       " \"I'm crazy enough to run in 95 degree mid-day heat under the blazing sun in a place where I'm not\\x89Û_ \",\n",
       " \"I'm blazing rn and there's nothing you can do to stop me\",\n",
       " 'Still blazing ????',\n",
       " '@bekah__w thanks! I sweat bullets every time I get in with this blazing sun beating down on me.',\n",
       " '@ACOUSTICMALOLEY no he was blazing it',\n",
       " \"@OfficialTJonez Your 'Lost For Words' made me a new fan of yours fam. Crazy skills beyond blessed! Keep blazing dude made love and respect!\",\n",
       " '**Let - Me - Be - Your - Hot - Blazing - Fantasy**  \\n#escorts #gfe #DUBAI ',\n",
       " '@__srajapakse__ Why thank you there missy ?? thought it suited the blazing hot summertime ?? yee-haw! ??',\n",
       " '@asukager magical bag of blazing',\n",
       " \"The Blazing Elwoods @BlazingElwoods - Don't Bother Me (Doug's Song) -Tune \",\n",
       " 'Morgan Silver Dollar 1921 P CH Gem Bu PL Blazing MS++++++ Satin Rare Proof Like! - Full re\\x89Û_  ',\n",
       " 'Blazing Hot! Etisalat Free MB For Complete 12 Months: Etisalat Is Giving out 100MB on TECNO Q1 here is the Ime... ',\n",
       " '@FunkyLilShack @mariaf30 I want a full on bitch slapping guns blazing cake throwing Charles showdown!! Now THAT will be worth the wait ????',\n",
       " \"Follow @EdWelchMusic and check out his Hit Single 'Unpacked' Man its BLAZING!!!\",\n",
       " \"I still don't know how 8 hours of physical activity in the blazing sun isn't a sport.\",\n",
       " 'Ways so archetype a bleeding well-grounded readiness: FpOJ ',\n",
       " \"Threw a chicken nugget at my sisters lip and now it's bleeding??\",\n",
       " \"you could slit my throat and I'd apologize for bleeding on you\",\n",
       " 'Joe Landolina: This gel can make you stop bleeding instantly  #arizona #realestate ',\n",
       " 'now my nose is bleeding. the last one was like 10 years ago',\n",
       " \"I have been bleeding into this typewriter all day but so far all I've written is a bunch of gunk.\",\n",
       " \"@JaydenNotJared I can't help it. Hope you're ok. Text me if you need to talk. Sending hugs your way. PS no bleeding to death allowed\",\n",
       " \"Apparently if you're bleeding people look at you weird lol well it's fine keep walking\",\n",
       " 'Eating takis then rubbing my eyes with my hands now my eyes are bleeding tears',\n",
       " '@DarrylB1979 yea heard about that..not coming out until 2017 and 2019 ?????? Vampiro is bleeding',\n",
       " '@CoreyAshe Did that look broken or bleeding?',\n",
       " 'i hit my foot now my toe is bleeding ??',\n",
       " \"@King_Naruto_ As long as I see Madara bleeding I'm good ??\",\n",
       " \"Keep thinking about it until I stepped on a broken glass pun tak sedar and I don't feel the pain also it's bleeding. Shit\",\n",
       " 'My ears are bleeding  ',\n",
       " \"It's not a cute dinner date Til cams nose starts bleeding\",\n",
       " '@Uptown_Jorge head up like yo nose bleeding',\n",
       " \"I've been bleeding in your silence \\nI feel safer in your violence .\",\n",
       " \"@Jannet2208 I fell off someone's back and hit my head on concrete /: I was bleeding n shit\",\n",
       " \"Deadpool is already one of my favourite marvel characters and all I know is he wears a red suit so the bad guys can't tell if he's bleeding\",\n",
       " \"@SoDamnTrue  we know who u are you're a bleeding heart wannabe pickup artist\",\n",
       " '@chaosmagician97 awesome!! I saw he was bleeding pretty bad',\n",
       " \"@burberryant bleeding on the brain don't know the cause\",\n",
       " \"lets see how good you are at soccer when you're bleeding out yo face\",\n",
       " '@tammy_w1997 @ElijahMallari bleeding wild things running around the apartment while hes in work at the bar ????????',\n",
       " '@ColoicCarnality You were bleeding my instincts kicked in. *She looks away and scratches the back of her head*',\n",
       " 'my ears are bleeding i hate stefano',\n",
       " 'My ear started bleeding again...',\n",
       " 'A rave wedding ? Am I seeing this  my eyes are bleeding',\n",
       " 'they say bad things happen for a reason\\nbut no wise words gonna stop te bleeding',\n",
       " '@DamnAarielle yo timeline blew up so damn fast',\n",
       " '@mfalcon21 go look. Just blew it up w atomic bomb.',\n",
       " \"I blew up #oomf instagrams cause she's cute and she's an active follower\",\n",
       " '@b24fowler I see that! Crazy how this line blew up.',\n",
       " 'My Instagram just blew up apparently I was featured on I am jazz tonight. How cool is that love her',\n",
       " \"i'd still be team usagi even if she blew up the entire solar system by some airhead misstep\",\n",
       " \"i hate people who tweet 'receipts' but KNOW its wrong\\n\\nbut they wont take it down bc it 'blew up'\\nliterally gtfo you're that desperate\",\n",
       " \"I think I just blew up @HopeInHearts notifications. Go check her out she's so encouraging to me ???? love her ??\",\n",
       " 'Hw18 going 90-100. Dude was keeping up with me. Took the same exit. Pulled to the side and told me he blew his motor. Lolol #2fast2furious',\n",
       " \"The universe might not actually exist scientists say  'The #SUN blew up and the #Earth began'...\",\n",
       " 'Max blew tf up ! ?????? shots fired ???? #CatfishMTV',\n",
       " 'Rick and Morty - They Blew Up : ',\n",
       " '@CodyThompson25 ty just blew up the motor went up in flames he got out ok',\n",
       " \"Just realized my dude @_OnlyFTF was on that 'What Are Those' way before it blew up @ the tusky ?? game @robsimss @CantMissKid\",\n",
       " 'This night just blew up rq',\n",
       " 'I blew up snapchat for no reason ??',\n",
       " \"Queens Gambit went well until Anakin blew up the droid control ship. Oh well still fun! Can't Stop is next! #WBC2015\",\n",
       " \"@iphooey @TIME Ironically Michele Bachmann brought this up in '11 w/Ron Paul &amp; everyone blew her off and called hoax. She was finally right\",\n",
       " 'Catfish retweeted me &amp; my notifications blew up ??????.',\n",
       " 'Some guy whistled at me in the parking lot &amp; it did not help that the wind blew my skirt up getting in the car ??',\n",
       " 'Blew up those mentions',\n",
       " 'The 1st time someone blew up my phone 30 times they would be blocked. Believe it.  #Catfish',\n",
       " '@ImAwesome7986 like literally blew up',\n",
       " 'FREYAS VIDEO BLEW UP EVERYWHERE',\n",
       " '@YahooSchwab easy way to look good after the Ray Rice fiasco...that blew up',\n",
       " 'Lmao that light skin guy blew up on Twitter by talking about how ugly he was as a kid..',\n",
       " 'Because you watched: Honey I Blew up the Economy\\n\\nWe Recommend : The Conservative Shoppe of Horrors\\n\\n#HarperANetflixShow #elxn42 #stopharper',\n",
       " 'Ye did the same thing to Big Sean and he still blew up',\n",
       " 'Zayn just blew up twitter.',\n",
       " 'Bitch done blew my shit up',\n",
       " \"@WeLoveRobDyrdek @adrian_peel not a damn clue. Tried to see how many clicks I could get before I blew up. That's how I played.\",\n",
       " '@Daorcey @nsit_ YOUR a great pair. Like a couple of Graywardens fighting the blight...',\n",
       " '@DaMidnighter theres actually a theory out there that the magisters arent the only reason for the blight\\nthat dwarves (the ones from the',\n",
       " 'As a cycling fan I feel sorry for world athletics #doping is a blight exacerbated monetary reward. A lot of soul searching will be required',\n",
       " '@kynespeace *blight',\n",
       " 'Poor Jack ??',\n",
       " \"@realhotcullen I agree but I knew we'd be going to the deep roads again because they found Blight in red lyrium. It ain't over yet &gt;_&gt;\",\n",
       " 'Get a load of this welfare loving sponge....a blight on society. ',\n",
       " 'New post: Prysmian secures contract for Blight Bank wind farm ',\n",
       " 'Cleveland Heights Shaker Heights fight blight: The House Next Door ',\n",
       " 'Carl Everest Rob Cobes Whitt Blight Frost Leo Snuff Godly and a few others. I will drink a beer with them. Someday.',\n",
       " 'THDA Kicks Off Anti-Blight Loan Effort in Memphis  ',\n",
       " 'City program to help turn blight into greenspace: The Tennessee Housing Development\\x89Û_   #news ',\n",
       " '@Demetae12 yes i want to be the new blight leader',\n",
       " \"Releases on the planing level -\\n\\n1. Constellation - Blight on Gaia - iClown's Drumstep Remix\\n2.iClown - Infinity... \",\n",
       " ' - Cleveland Heights Shaker Heights fight blight: The House Next Door ',\n",
       " \"'If you are going to achieve excellence in big things you develop the habit in little matters....' dont know the author\",\n",
       " '@Hendy_21 sure the purdies will be alive with the blight ??',\n",
       " 'Tracy Blight Thank you for following me!!',\n",
       " 'Apperception bridgework blight: XxhJeSC ',\n",
       " \"If you dotish to blight your car go right ahead. Once it's not mine.\",\n",
       " 'Sexual Revolution:Blight For Women is out!  Stories via @ACeBabes @HealthWeekly1 @AmateurNester',\n",
       " \"LIKE I SWEAR THE SECRET WE'LL UNCOVER IS THE OLD GODS IN A SLUMBER. I THINK THERES GONNA BE ANOTHER BLIGHT\",\n",
       " '@WillHillBet what is double result live on the app?',\n",
       " '@parksboardfacts first off it is the #ZippoLine as no one wants to use it and the community never asked for this blight on the park #moveit',\n",
       " 'Look for my Policy Matters Ohio report on #CLE and Cuyahoga County blight and greening vacant lands soon!  ',\n",
       " '@anellatulip and put the taint there and that all that the magisters did was to open the gates and let the blight get away from it',\n",
       " '@anellatulip there is a theory that makes way too much sense that says that the dwarves may be the actual origin of the blight',\n",
       " 'Article by Michael Jackman at Metro Times Detroit:\\nThe group later downgraded the estimate to 37 square miles of... ',\n",
       " 'Locksmithing-art respecting elaboration only blight locks: lPDkl',\n",
       " '@jake_blight @WeAlIlKnowA you cunt',\n",
       " 'What if every 5000 wins in ranked play gave you a special card back.. Would be cool for the long te\\x89Û_ ',\n",
       " 'Amazon Deal - wait or buy? ',\n",
       " \"New print available on  - 'Waiting Too Long' by Pamela Blizzard - \",\n",
       " '@Blizzard_draco GIVE ME FREE ART KAMON',\n",
       " '@StevenOnTwatter @PussyxDestroyer just order a blizzard pay then put your nuts in it say they have you ball flavored. Boom free ice cream',\n",
       " 'Blizzard of Auz @ 9 pm CST @RadioRiffRocks /     2 hrs of Rock to make your hump day complete! ',\n",
       " 'I really wants a rolo blizzard but mom said no so I guess no DQ tonight',\n",
       " 'Stats ',\n",
       " \"@blizzard_fans Lucio!! Let's get the #overwatch hype train rolling some more!! Caution though there aren't any breaks\",\n",
       " '@Blizzard_Gamin ight',\n",
       " 'peanut butter cookie dough blizzard is ??????????????????????',\n",
       " \"My mic and controllers aren't working one second\",\n",
       " \"Tomorrow's Announcement VODs \",\n",
       " 'Updated to Windows 10 now I get this error ',\n",
       " 'New Expansion Ideas - Bard Class Holy Trinity + 1 ',\n",
       " '@DaBorsch not really that shocking :( blizzard lured their old fanbase back with WoD and disappointed us hardcore so everyones leaving again',\n",
       " 'the best thing at DQ is the cotton candy blizzard ??????????????????????????????????????????????????',\n",
       " 'Lizard Wizard in a Blizzard #LWB ',\n",
       " '@Blizzard_draco @LoneWolffur I need this.',\n",
       " '@FAIRx818x @PlayOverwatch @BlizzardCS please blizzard we love you',\n",
       " 'A blizzard would be clutch asf ??',\n",
       " '@Blizzard_draco @LoneWolffur also me please I would very much like a link',\n",
       " '@LoneWolffur control yourself tora',\n",
       " 'First Time Playing Hearthstone on PC Thoughts ',\n",
       " 'I love the cotton candy blizzard??',\n",
       " '@TCGReno just hard reset my Xbox',\n",
       " 'I really wanna brownie batter blizzard ??',\n",
       " 'Market News: Activision Blizzard Cognizant Technology First Solar ',\n",
       " 'SEAN END CAREER sG Blizzard vs KNOCKOUT ... ',\n",
       " 'What is the biggest regret you have in hearthstone? ',\n",
       " 'Someone walk with me to DQ ??\\nI wanna Butterfinger Blizzard so bad??',\n",
       " 'That horrible moment when u open up the dryer and it looks like a snowy blizzard cuz u left a piece of paper in your jeans pocket ??',\n",
       " '@LoneWolffur BRUH *dies*',\n",
       " 'Rip ?? Blood !',\n",
       " \"@Chief__CG nah young blood that cook is gone I'm cut now .haha\",\n",
       " 'Off The Wall Invincible and HIStory + Blood On The Dance Floor ',\n",
       " 'Broke my nail(real not fake) this morning blood and all ah it hurts any ideas how to treat it? Help me pretty please ? -_-',\n",
       " \"4.5 out of 5 stars by 290 reviewers for 'Dragon Blood' Boxset by Lindsay Buroker  #kindle \",\n",
       " 'Blood Group  A +ve is associated with Gastric Carcinoma says text book...Another fragile gene in my body....',\n",
       " 'A friend is like blood they are not beside us always. But they come out when we are wounded.',\n",
       " 'We gone get it  get it in blood',\n",
       " 'Doing dialyses to my grandpa and oh lord this blood makes me light headed',\n",
       " '@SetZorah dad why dont you claim me that mean that not right we look the same same eyes same blood same xbox 360 SMH -.-',\n",
       " 'Omron HEM-712C Automatic Blood Pressure Monitor STANDARD AND LARGE BP CUFFS  ',\n",
       " \"My blood pressure is through the roof I don't need all this extra shit!!!!\",\n",
       " '@Chambered_Blood Yeah you are! #SpeakingFromExperience',\n",
       " \"Guys. I have an Imouto Who Isn't Actually Related to Me by Blood.\",\n",
       " 'Bruh white people buy the ugliest shoes and they them super tight no blood going to there feet',\n",
       " 'another day another excellent @_dangerousbeans porridge. seriously people. blood orange in porridge is phenomenal.',\n",
       " '@scotto519 happy birthday young blood',\n",
       " \"If it wasn't for the Blood! ????\",\n",
       " 'No kinda in it that shii nasty blood. No pun intended',\n",
       " 'Today was such a hastle from getting drug tested  blood drown out  tb shot  to document filling  ??',\n",
       " 'Man . somebody gotta stop Sbee dude too fuckin funny blood',\n",
       " 'Where will the winds take my gypsy blood this time? ',\n",
       " '@Lobo_paranoico Mad Men',\n",
       " '#RolandoNaBeats: Ellie Goulding - My Blood | Acesse nosso site para ouvir! ',\n",
       " \"@olrules Welcome - Read a free chapter of my new book Encounters With Jesus. It's full of hope. \",\n",
       " '@Anthxvy runs in the blood',\n",
       " '@sethalphaeus my personal favorites include paramore muse green day royal blood and 5sos',\n",
       " 'Shed innocent blood of their sons and daughters and the land was polluted Psalms 106:38  Help stop the sin of abortion.',\n",
       " '*se pone a cantar crying lightning*',\n",
       " 'Add these items to your everyday eating habits. Please do the research on how to take with your blood\\x89Û_ ',\n",
       " 'LOOOOOOOOOOOOL who the bloody hell did that??  ',\n",
       " 'infected bloody ear piercings are always fun??',\n",
       " 'aggressif is so bloody aggressive',\n",
       " 'I entered to #win the ENTIRE set of butterLONDON Lip Crayons via @be_ram0s. - Go enter! #bbloggers ',\n",
       " '@slsandpet Hey Sally sorry have you emailed me? Been AWOL bloody work ARGH! @ResignInShame',\n",
       " \"I'm over here listening to Bloody Jay.  ???? \",\n",
       " \"@LauradeHolanda I have the Forrest version from '83 that's bloody awful as well :))) xxx\",\n",
       " \"'A Nightmare On Elm Street' Is Getting Remade... Again - \",\n",
       " \"I can't bloody wait!! Sony Sets a Date For Stephen King\\x89Ûªs \\x89Û÷The Dark Tower\\x89Ûª #stephenking #thedarktower   @bdisgusting\",\n",
       " 'Gotta try to let go of so many bloody things. Smh',\n",
       " '@zhenghxn i tried 11 eyes akame ga kill and tokyo ghoul all damn bloody i dont dare watch????????',\n",
       " \"@Fantosex Now suck it up because that's all you're bloody getting out of me by means of amends.\",\n",
       " \"You call them weekends. I call them Bloody Mary times. This summer's been full of them. My new\\x89Û_ \",\n",
       " \"Bloody hell what a day. I haven't even really done anything. Just. Tired. Of everything. Thought vaca would help but it only did so much. =/\",\n",
       " 'Damn bloody hot',\n",
       " \"@MrTophyPup it's bloody sexy *drools*\",\n",
       " 'You know how they say the side effects low &amp; really fast? Son the product was an acne cream.. Why 1 of the side effects was bloody diarrhea?',\n",
       " \"Ronda Rousey would be 'close' to making Floyd Mayweather's money in 50 fights - Bloody Elbow  #boxing\",\n",
       " \"I'm awful at painting.. why did I agree to do an A3 landscape in bloody oils of all paints ??\",\n",
       " 'All I need in this life of sin\\nIs just me and my girlfriend\\nDown to ride till the bloody end\\nJust me and my girlfriend',\n",
       " \"@_itsmegss_ I think it is. well it's bloody barking now\",\n",
       " 'Eh hello cover your bloody thighs your bloody cleav... \\x89ÛÓ Eh hello! Since when do i expose my cleavage and i on... ',\n",
       " '@MariaSherwood2 @JohnJCampbell Mega bloody marvellous',\n",
       " 'Bloody Mary in the sink. Beet juice ',\n",
       " '@MelRises @gayler1969 @wwwbigbaldhead @jessienojoke @melissaross9847 if my Monty Python is up to date as bloody far as he wants to go.',\n",
       " 'Meet the bloody RS5 ',\n",
       " \"Friday supposed to be a happy day but it's a bloody friday hah zzzz\",\n",
       " '@chxrmingprince @jones_luna I should bloody hope so *she said folding her arms sitting back in her chair*',\n",
       " 'Wait until i tell my college friend who reafs bloody mary too about the drama cd',\n",
       " \"I've just watched episode S01E09 of Bloody Monday!  #bloodymonday #tvshowtime \",\n",
       " 'Marlon Williams &gt; Elvis Presley &gt; Marlon Williams &gt; Steel Panther. \\n\\nShuffle mode like a bloody legend.',\n",
       " 'Black Friday turns Bloody (would rather be shopping)   #mystery',\n",
       " \"@ezralevant Someone told me all the soccer moms are getting this pic blown up and put on their daughter's bedroom walls. NOT!!!\",\n",
       " '@Papcrdoll and I s2g if my mentions get blown up over MY choice I will deactivate and leave for good. RESPECT MY CHOICES.',\n",
       " \"@ManUtd @EmilymcfcHeslop \\n\\nWow just wow! \\n\\nIf any other club had blown all that money and fucked up a player like that they'd be pilloried!\",\n",
       " 'Damn greinke got blown up in that first inning',\n",
       " 'Woke up so blown lol',\n",
       " \"aunt marge you're blown up eheks\",\n",
       " '@troylercraft YEAH ITS NOT WORTH IT BC HE ALREADY HAS SO MANY SPAMMERS &amp; HIS TWITTER IS PROBABLY BLOWN UP EVERY SECOND',\n",
       " \"Man why hasn't @machinegunkelly blown up? He's still underground.\",\n",
       " 'And my mentions are blown up for what? ?? wtf.',\n",
       " 'That moment when ur about to win a mini uhc and than get blown up by a creeper and get kicked for flying..... So salty rn...!!!??',\n",
       " \"@libraryeliza he did get a @taylorswift13 'bump' of approval which is probably why he's blown up  #MusicAdvisory\",\n",
       " \"HEY LOOK!!!  Kash's Foundation Live for Today got blown up on People Magazine's website!!  \\n\\nTodd Blake... \",\n",
       " \"@KaylaK369 got it last month when I went into the EE shop. Glad it hasn't blown up yet. \",\n",
       " 'this is the first time a tweet has blown up almost half a day later... RE ',\n",
       " \"'We\\x89Ûªre blown away by this extension. Nothing we\\x89Ûªve seen has as many options as this one.'   \",\n",
       " \"@TheBoyOfMasks 'Thanks again for letting me stay here since the manor was blown up..... Anyways how are you doing buddy?'\",\n",
       " 'LONER DIARIES.\\n\\nThe patterns  on the sand\\nMay have been blown away.\\nThe photos in twos\\nAll choked up in flames.... ',\n",
       " \"Vanessa's game has officially blown up. LADIES AND GENTLEMEN...the real show is about to begin. #BB17\",\n",
       " 'Guaranteed been bitten by some mutant mosquito my ankle has blown up. Little cunts',\n",
       " 'Things you CAN pick up from tozlet seat|: butt leprosy full-blown jerkface syndrome a lateral lisp &amp; toilet rickets.',\n",
       " '@KalinAndMyles @KalinWhite my ig is being blown up just with hackers I need it to stop #givebackkalinwhiteaccount',\n",
       " '@luke_winkie Whoever is directing these videos needs to grab up Nicki Minaj or someone with U.S. recognition so minds can be blown.',\n",
       " \"@PrincessDuck last week wanted the 6th sense to get blown up so far so good. James could win but he's a huge target and will be gone soon.\",\n",
       " '@orbette more like BLOWN UP amirite',\n",
       " 'My dog\\x89Ûªs just blown his kennel up \\x89ÛÒ Bloody Yorkshire Terrorist',\n",
       " 'Turn on ESPN2 and get blown up',\n",
       " '@thebriankrause leos ass just got metaphorically blown up again #PiperWearsThePants #charmed',\n",
       " '@anarchic_teapot @BoironUSA @zeno001 Glononium 6C also helps with being blown up while bashing a bottle of nitroglycerin against a book.',\n",
       " 'New Ladies Shoulder Tote Handbag Women Cross Body Bag Faux Leather Fashion Purse - Full re\\x89Û_  ',\n",
       " 'New Ladies Shoulder Tote Handbag Women Cross Body Bag Faux Leather Fashion Purse - Full re\\x89Û_  ',\n",
       " 'If you have a son or a daughter would you like to see them going to a war with Iran and come back in a body bag? Let the #Republicans know',\n",
       " '@questergirl ditto but its all we had. and the way i feel if i drank vodka over ice they would have to body bag me',\n",
       " '# handbags Genuine Mulberry Antony Cross Body Messenger Bag Dark Oak Soft Buffalo Leather:  å£279.00End Date: W... ',\n",
       " 'Louis Vuitton Monogram Sophie Limited Edition Clutch Cross body Bag - Full read by eBay  ',\n",
       " 'Louis Vuitton Monogram Sophie Limited Edition Clutch Cross body Bag - Full read by eBay  ',\n",
       " 'Louis Vuitton CultSierre Monogram Shoulder Bag Cross Body Bag   ',\n",
       " 'Check out Ameribag Healthy Back Bag Shoulder Cross Body Backpack Khaki Tan Beige Nylon  @eBay',\n",
       " 'Photo: Bath &amp; Body Works cosmetic bag in periwinkle blue with copper piping along the top and four corners.... ',\n",
       " 'New Ladies Shoulder Tote Handbag Women Cross Body Bag Faux Leather Fashion Purse - Full re\\x89Û_  ',\n",
       " 'new summer long thin body bag hip A word skirt Blue  ',\n",
       " 'å¤} New Ladies Shoulder Tote #Handbag Faux Leather Hobo Purse Cross Body Bag #Womens   RT en\\x89Û_',\n",
       " \"@TR_jdavis Bruh you wanna fight I'm down meet me in the cage bro better find out who you're dealing with before you end up in a body bag\",\n",
       " 'New Ladies Shoulder Tote Handbag Faux Leather Hobo Purse Cross Body Bag Womens - Full read\\x89Û_  ',\n",
       " 'AUTH LOUIS VUITTON BROWN SAUMUR 35 CROSS BODY SHOULDER BAG MONOGRAM 7.23 419-3 - Full read\\x89Û_  ',\n",
       " 'Check out Vintage Longaberger Floral Fabric Shoulder Cross Body Bag Brown Leather Strap  @eBay',\n",
       " '?? New Ladies Shoulder Tote #Handbag Faux Leather Hobo Purse Cross Body Bag #Womens  ',\n",
       " 'new summer long thin body bag hip A word skirt Blue  ',\n",
       " '?Ìü New Ladies Shoulder Tote #Handbag Faux Leather Hobo Purse Cross Body Bag #Womens   RT en\\x89Û_',\n",
       " 'Louis Vuitton Monogram Sophie Limited Edition Clutch Cross body Bag - Full read by eBay  ',\n",
       " 'New Women Handbag Faux Leather Ladies Shoulder Tote Cross Body Bag Large Satchel - Full re\\x89Û_  ',\n",
       " 'One day this heart gone get me zipped up in a body bag.',\n",
       " '#handbag #fashion #style  Authentic Louis Vuitton Pochette Bosphore Shoulder Cross Body Bag\\x89Û_ ',\n",
       " 'å_? New Ladies Shoulder Tote #Handbag Faux Leather Hobo Purse Cross Body Bag #Womens  ',\n",
       " '#handbag #fashion #style  Vintage Coach Purse Camera Bag Cross Body #9973\\n\\n$16.99 (0 Bids)\\n\\x89Û_ ',\n",
       " 'genuine Leather man Bag Messenger fit iPad mini 4 tablet case cross body air jp - Full rea\\x89Û_  ',\n",
       " 'Louis Vuitton Monogram Sophie Limited Edition Clutch Cross body Bag - Full read by eBay  ',\n",
       " '?? New Ladies Shoulder Tote #Handbag Faux Leather Hobo Purse Cross Body Bag #Womens  ',\n",
       " \"Nuu that FAM?? fwt I'm Leave You In a Body bag??\",\n",
       " 'New Ladies Shoulder Tote Handbag Faux Leather Hobo Purse Cross Body Bag Womens - Full read\\x89Û_  ',\n",
       " \"@Rhee1975 @deliciousvomit No I'm not I'm saying that they're lucky they can go home to their families not put in a body bag\",\n",
       " \"@matt_bez oh I'm not bagging her at all! Her body be bangin'. I'm saying she's going to get the rose.\",\n",
       " \"@ohmyloz @RondaRousey who is bagging her body ? She's smoking hot ??\",\n",
       " 'Drake is really body bagging meek',\n",
       " '@MeekMill is w(rec)k league ball @Drake is Olympic level body bagging him like his career was nothing #trollingtilMeekdiss',\n",
       " 'Idgaf who tough or who from Canada and who from north Philly meek been acting like a bitch &amp; drake been body bagging his ass on tracks',\n",
       " '@BroseidonRex @dapurplesharpie I skimmed through twitter and missed this body bagging.',\n",
       " 'G+: + Body Bagging them lyrically! ',\n",
       " '@bomairinge @EluTranscendent straight body bagging.',\n",
       " 'Body Bagging Bitches ???? ',\n",
       " 'No better feeling than seeing and being on stage with my day ones...... 22 year friendships and we still body bagging mics together.',\n",
       " 'Mopheme and Bigstar Johnson are a problem in this game body bagging niggas #VuzuHustle',\n",
       " 'I was body Bagging on the ????Today...4got to post my score ',\n",
       " \"@editaxohaze then let the bagging body's begin lol ???? I ain't cuffed yet so it shouldn't be that bad!!\",\n",
       " '#OVOFest Drake straight body bagging Meek on that OVO stage. #ZIPHIMUP!',\n",
       " \"I'm not a Drake fan but I enjoy seeing him body-bagging people. Great marketing lol.\",\n",
       " '@amaramin3 Meek is definitely capable of body bagging his ass on the track Drake was just smooth as fuck with it!',\n",
       " 'Gates not body bagging nobody???????? niggas in br really know who he is ????',\n",
       " 'WWE 2k15 MyCareer EP18 Tyrone body bagging dudes:  via @YouTube',\n",
       " \"Drake Body Bagging Meek. He must of hit a sensitive spot talking about a 'ghostwriter.' He trying 2 end his career. \",\n",
       " 'Good diss bad beat and flow. Mark my words Meek Mill is body bagging him once he responds. Patient patient. Meek is a battle rapper!',\n",
       " \"@Drake is body bagging meek meanwhile he's on tour with Nicki all hush hush...he's put 2 diss tracks out and meek 0 but dude started it lol\",\n",
       " '@MzGracieBaby for the record im jumpin out the window early... i got @OfficialRealRap body bagging luck.. lol save the file',\n",
       " 'Has body bagged ** RT @d_lac: Drake is body bagging meek',\n",
       " 'drake been kept it the most hip hop during this beef and he fucking body bagging meek back to back ??',\n",
       " \"Woke up to Drake body bagging Meek again!! Meek u can't out spit ya girlfriend... Just lay down Man.... NOT Right... \",\n",
       " '@Im2aD I was going to tell him but you were body bagging him',\n",
       " '8 hours of bagging groceries = an aching body',\n",
       " '@SlikRickDaRula Drake really body bagging peeps man ?? he really bout it',\n",
       " 'Micom 2015 Summer Contrast Candy Color Bowknot Cross Body Tote Shoulder Bags for Womengirls with Micom Zip Po ',\n",
       " 'HOBO Hobo Vintage Shira Convertible B\\x89Û_ $238.00 #bestseller ',\n",
       " 'Child Shoulder Bags PVC Shoulder Book Bag Cartoon Cross Body Bags for Girls  ',\n",
       " 'Womens Buckle Casual Stylish Shoulder Handbags Pockets Cross Body Bags Green ',\n",
       " \"Ain't no bags in the trunk it's a body\",\n",
       " 'BESTSELLER! Fossil Dawson Mini Cross Body Bag Es\\x89Û_ $98.00 ',\n",
       " '@BoomerangTime @RSKarim1 @sopameer @wattashit3 Appears to already be arriving in Ridah in body bags.',\n",
       " 'The Body Bags has a show on 08/07/2015 at 07:30 PM @ Tremont Music Hall in Charlotte NC  #concert',\n",
       " 'BODY BAGS! ',\n",
       " 'you know you hate your body when you buy 2 bags of chips and a variety pack of fruit snacks and a redbull as a snack',\n",
       " \"BREAKING: Fairfax County firefighter placed on admin leave amid probe into Facebook post about putting police in 'body bags' dept. says.\",\n",
       " 'Womens Buckle Casual Stylish Shoulder Handbags Pockets Cross Body Bags White ',\n",
       " 'Attention all RCHS football players there will be coffins and body bags by the locker rooms grab one tommorow because were gonna die',\n",
       " 'Womens Flower Printed Shoulder Handbags Cross Body Metal Chain Satchel Bags Blue  ',\n",
       " 'Womens Cross Body Messengers Bags Clutch Small Shoulders Zippers Bags White  ',\n",
       " '@Deeeznvtzzz bring the body bags tho',\n",
       " 'US \\x89Û÷Institute Of Peace\\x89Ûª Chairman Wants Russian Body Bags ',\n",
       " \"UPDATE: Va. firefighter on administrative leave after Facebook post calls for people to put officers in 'body bags.' \",\n",
       " '@ScottWalker So you can send the poor and middle class children to war so they can come in body bags.  Typical GOP',\n",
       " '@baskgod body bags',\n",
       " \"Nine giant body sized garbage bags later...I'm just going to start throwing things away. #moving2k15 #expertwhiner\",\n",
       " 'I love The body shop\\x89Ûªs bags??\\n\\n#cutekitten #catsofinstagram #summerinsweden #katt #katterpÌ´instagram #dumle #dagens\\x89Û_ ',\n",
       " 'Womens Tote Faux Leather Handbags Shoulder Cross Body Top Handle Bags Rose  ',\n",
       " 'Womens Satchel Lattice Chain Studded Cross Body Multi Colour Shoulder Bags Blue  ',\n",
       " 'Lab today ready for these body bags. ??',\n",
       " 'Bitches be takin pics with bags bigger than they whole body ??????',\n",
       " 'Womens Buckle Casual Stylish Shoulder Handbags Pockets Cross Body Bags Green  ',\n",
       " \"#IranDeal most members of Congress who don't want this deal don't have any kids who would b coming home in body bags. War makes them money\",\n",
       " '\\x89ÛÏParties and body bags go together like drinking and driving.\\x89Û\\x9d',\n",
       " '@Limpar33 sweeping legs? Or putting people in body bags?',\n",
       " 'Shoot shit up till we see body bags',\n",
       " \"'Your body will heal the bags under your eyes will go away you\\x89Ûªll be so happy you\\x89Ûªll smile and really...' \",\n",
       " 'Womens Handbags Cross Body Geometric Pattern Satchel Totes Shoulder Bags White   RT gasparc\\x89Û_',\n",
       " 'women messenger bags clutch bag handbag cross body shoulder bags bag ladies designer handbags high qualit ... ',\n",
       " 'Womens Handbags Cross Body Geometric Pattern Satchel Totes Shoulder Bags White  ',\n",
       " 'Status: last seen buying body bags.',\n",
       " \"@asymbina @tithenai I'm hampered by only liking cross-body bags. I really like Ella Vickers bags: machine washable. \",\n",
       " 'Zicac Vintage Leather Briefcase Messenger Satchel Tote Cross Body Handbags for Womens ',\n",
       " 'Fairfax investigating firefighter over Facebook post saying police should be put in \\x89Û÷body bags\\x89Ûª - The Washington Post ',\n",
       " 'Mens Cross Body Canvas Waist Packs Solid Letter Print Sports Zipper Bags Coffee  ',\n",
       " 'Listen to this hit song. A summer Bomb full of positive energy and youth\\nDid you like it?\\n \\n#Norge2040',\n",
       " 'beforeitsnews : Global Derivatives: $1.5 Quadrillion Time Bomb  (v\\x89Û_  ',\n",
       " 'this is about to be a bomb ass firework picture ',\n",
       " \"namjoon's FANTASTIC IS BOMB BYE OMG\",\n",
       " 'HALSEY AND TROYE COLLAB WOULD BE BOMB',\n",
       " \"@AaronTheFM guys to scared to show his real name anyway he knows I'll bomb him\",\n",
       " '@CranBoonitz So going to make any bomb threats? @HereticOfEthics',\n",
       " '\\x89ÛÏ@dylanmcclure55: Working at zumiez is the  which location??',\n",
       " 'Jen you da bomb girl! ',\n",
       " '@daniglasgow45 Happy birthday big D!!! I miss you girl hope you have a bomb one ???? ',\n",
       " \"@danielsahyounie It'd be so bomb if u guys won ??\",\n",
       " \"@dopeitsval ahh you're bomb baby ??\",\n",
       " 'When you get a bomb ass picture mail ????????',\n",
       " '@CaraJDeIevingnc the bomb impact ratio hit beyond kyle js',\n",
       " 'Flat out bomb by @FlavaFraz21 #whatcanthedo',\n",
       " \"Soul food sound so bomb right now '\",\n",
       " 'The bomb was so appropriate ?? seen as my family and most Jamaicans love shout bullets !',\n",
       " 'The MF Life is a vocal and lyrical bomb. Saw her live this summer. AMAZING vocalist. RT @THEmale_madonna: Melanie Fiona is so slept on ??',\n",
       " 'E-Hutch is da bomb ?? ',\n",
       " 'Jays rocking #MLB @JoeyBats19 just bombed one out of Rogers Centre. Play-offs r ahead for The #BlueJays - Bell Moseby and Barfield r back!',\n",
       " \"@Stankyboy88 I should've photo bombed\",\n",
       " 'London Life: photos of a beautiful bombed-out Britain  #arts',\n",
       " \"I can't believe @myfriendmina photo bombed a screenshot\",\n",
       " 'Photo bombed ???? ',\n",
       " '@QPR1980 @Rorington95 Nowt to do with money. Fergie bombed out the big drinkers at United within years of taking over while Wenger',\n",
       " \"@oooureli @Abu_Baraa1 You mean like the tolerance you showed when sharing 'democracy' with the Iraqis? Wait you mutilated and bombed them.\",\n",
       " '@BrodyFrieling @hanna_brooksie photo bombed',\n",
       " \"@CheetosArabia @Crudes It feels like if i would try to grab one off hes Cheetos i'll get bombed.\",\n",
       " '@ChristophersZen @HunterLove1995 @tblack yeah man..... That movie BOMBED hard',\n",
       " \".@RaniaKhalek true. I faced everything from 'Is Bin Laden your uncle?' to 'Hopefully Afghanistan will be bombed'. Children can be very ugly.\",\n",
       " '@KurtSchlichter @FALPhil This liberal compassion is BS. A specific Feminist said the US bombed Japan back to traditional sexist values.',\n",
       " \"Ladies here's how to recover from a #date you totally BOMBED... according to men  \",\n",
       " '@r_lauren83199 @xojademarie124 i hope you get Batista Bombed lauren',\n",
       " 'Me trying to pass lax with my family ends up by me having to run after the ball after it gets bombed over my head',\n",
       " 'I liked a @YouTube video  Benedict Cumberbatch Gets Video Bombed',\n",
       " 'You just got GIF bombed #AfricansInSF #BeyondGPS  ',\n",
       " 'A wasp just dive bombed my face',\n",
       " '@MisfitRarity misfit got bombed',\n",
       " 'I think bombing Iran would be kinder... ',\n",
       " 'Oh and fuck Bill Clinton for bombing us and fuck NATO.',\n",
       " 'A Marshall Plan for the United States by Dambisa Moyo via @ProSyn #oped  via @po_st',\n",
       " \"@BloopAndABlast Because I need to know if I'm supposed to throw myself off a bridge for a #Collapse or plan the parade. There is no both\",\n",
       " 'Listening to Blowers and Tuffers on the Aussie batting collapse at Trent Bridge reminds me why I love @bbctms! Wonderful stuff! #ENGvAUS',\n",
       " 'Ashes 2015: Australia\\x89Ûªs collapse at Trent Bridge among worst in history: England bundled out Australia for 60 ... ',\n",
       " 'Leicester_Merc : ICYMI - #Ashes 2015: Australia collapse at Trent Bridge - how Twitter rea\\x89Û_  ',\n",
       " 'A Marshall Plan for the United States by Dambisa Moyo via @ProSyn #oped  via @po_st',\n",
       " '@SonofLiberty357 all illuminated by the brightly burning buildings all around the town!',\n",
       " 'kou is like [CASH REGISTER] [BUILDINGS BURNING]',\n",
       " \"The greatest female beat boxer ever now but it's w/e... Save babies outta burning buildings on my free time but ya know.. whatevs..\",\n",
       " \"I'm mentally preparing myself for a bomb ass school year if it's not I'm burning buildings ??\",\n",
       " '? High Skies - Burning Buildings ?  #nowplaying',\n",
       " '@joshcorman  #infosec rather you knew it or not your a firefighter  now days  you often  run into burning buildings Deal with it.',\n",
       " \"Ever since Kelly's burned I keep having dreams about being inside burning buildings ??\",\n",
       " 'I Pledge Allegiance To The P.O.P.E. And The Burning Buildings of Epic City. ??????',\n",
       " '@RockBottomRadFM Is one of the challenges on Tough Enough rescuing people from burning buildings?',\n",
       " 'saving babies from burning buildings soaking cake in a shit tonne of alcohol mat is a man after my own heart ?? #GBBO',\n",
       " \"@PPFA At least they aren't burning buildings and looting stores.\",\n",
       " 'Fire hazard associated with installation of non-compliant external cladding on  - By @www.cbplawyers',\n",
       " \"square just let booty org write xv im sure we'd do just fine (buildings around me set on fire)\",\n",
       " 'A change in the State fire code prohibits grills on decks at condos and apartment buildings.  Check with your... ',\n",
       " 'Fire hazard associated with installation of non-compliant external cladding on high-rise buildings - Insurance - Aust ',\n",
       " 'So my band Buildings on Fire are playing @bbcintroducing @PurpleTurtleRdg this Wednesday with @GIANTGIANTSOUND  #rdg',\n",
       " 'I HATE WHEN IM TRYING TO STRAIGHTEN MY HAIR AND MY BROTHER COMES SWOOPING IN BEHIND ME AND SCARES ME I JUST BURNED MY FINGER',\n",
       " 'I should probably stay away from hot glue guns.. I burned one finger pretty bad',\n",
       " 'What progress we are making.  In the Middle Ages they would have burned me.  Now they are content with burning my books.  -Sigmund Freud',\n",
       " '@HGF52611 Uh huh. You only have to be burned once to know fire hurts. Robbie Ross should throw home run derby in the All Star Game #RedSox',\n",
       " 'Burned my popcorn??',\n",
       " \"@Wild_Lionx3 so others don't get burned\",\n",
       " \"when you're taking a shower and someone flushes the toilet and you have .1 second to GTFO or you get burned??????????????????????????????????????????????????\",\n",
       " 'Always look for the silver lining!  \\n\\nMy barn having burned to the ground\\nI can now see the moon.\\n~ Mizuta... ',\n",
       " 'Sure I just burned about 100 calories after eating a giant bowl of mac and cheese so I totally earned this 300 calorie Klondike Bar.',\n",
       " 'Alton brown just did a livestream and he burned the butter and touched the hot plate too soon and made a nut joke ',\n",
       " 'I spent 17 minutes walking with RunKeeper. 90 calories burned. #LoseIt',\n",
       " 'Sure - take them away from fire fighting for King Stevie &amp; Crusty to have a photo-op ! ',\n",
       " \"Don't get burned twice by the same flame.\",\n",
       " 'It hurts for me to eat cause i burned my tounge with a pepperoni yesterday!',\n",
       " 'I spent 15 minutes lifting weights. 43 calories burned. #LoseIt',\n",
       " 'Holy fuck QVC bitch just got burned so hard.',\n",
       " \"I just remembered the McDonald's that burned down used to have the coolest play ground &amp; the new one ain't got shit but video games )):\",\n",
       " 'burned 202 calories doing 30 minutes of Walking 4.0 mph very brisk pace #myfitnesspal',\n",
       " 'My sister Rl Burned All Her Boyfriend Clothes Recorded It &amp; Sent It to him ????',\n",
       " '@kennethbauer_ more like coffee and noodles \\n\\nBurned',\n",
       " 'Just burned the crap out of my grilled cheese sandwich. Sure wish I had a few life skills figured out by now...',\n",
       " 'I joked about it but Wood has to be burned out from working so many innings so often. #CubsTalk',\n",
       " '@thomasvissman22 @KeithyyL Keithyy gettin burned outta the blocks and on social media.... ',\n",
       " 'I burned myself today on the oven ?? it was at 500 degrees ??',\n",
       " 'I PUT MY CHICKEN NUGGETS IN THE MICROWAVE FOR 5 MINUTES INTEAD OF 1 ON ACCIDENT AND THEY FUCKING BURNED',\n",
       " 'Just burned the shit outta myself on my dirt bike ??',\n",
       " 'the stars are burning i here your voice in my mind',\n",
       " 'You Bitches Walking Around Like Yall Hot Shit &amp; Got Bed Bugs &amp; You Burning ????',\n",
       " \"It's raining outside I'm burning my favorite candle and there's hot cocoa to sip. Nap time = awesomesauce.\",\n",
       " 'hermancranston: #atk #LetsFootball RT SkanndTyagi: #letsFootball #atk WIRED : All these fires are burning through \\x89Û_ ',\n",
       " \"@aubilenon @MarkKriegsman if you think you'd like burning man you should try it because it's the only way to know!\",\n",
       " 'The 8-Minute Fat-Burning Routine That\\x89Ûªs Also Really Fun  #fat weightless # fatburning #burnfat #skinny #workout',\n",
       " \"@JohnsonTionne except idk them?? it's really burning ??????\",\n",
       " 'Kanger coils - burning out fast? via /r/Vaping101 ',\n",
       " 'RT @HuffPostComedy: We should build a wall that keeps Burning Man attendees from coming home  ',\n",
       " \"Don't be so modest. You certainly... *sniff* *sniiiiiiff* Er Donny? Is something burning?\",\n",
       " 'The Burning Legion has RETURNED!  ',\n",
       " 'the bar method \\x89ÛÓ integrates the fat burning format of interval training the muscle shaping techniqu ',\n",
       " \"If you're bored with life if you don't get up every morning with a burning desire to do things - you don't have enough goals. -Lou Holtz\",\n",
       " 'Uhhhhh demon hunters. But not the whole Burning Crusade v 2.0 thing.  ',\n",
       " 'Now playing: Boat Club - Memories on London Burning Web Radio - ',\n",
       " '@nagel_ashley @Vicken52 @BasedLaRock @goonc1ty rip the world... its burning',\n",
       " '@Rubi_ How many stacks of burning did it apply?',\n",
       " \"Parents are taking their kids to Burning Man and one 11 year old thinks it's 'better than... \",\n",
       " \"Why put out a fire that's still burning?\",\n",
       " 'If You\\x89Ûªre Not Paying Attention to Your Influencers You\\x89Ûªre Burning Money | SocialTimes ',\n",
       " '@minsuwoongs i completely understand because i just woke up like 15 minutes ago and im Burning',\n",
       " '#ika #tuning Soup #diet recipes | fat burning soup recipes:  Fat Burning Soup Diet Recip ',\n",
       " '2 Burning Man Tickets + Vehicle Pass - Full read by eBay  ',\n",
       " \"The last few days of summer are supposed to be the most fun so what's more fun then accidentally burning arm hair while playing w/ a lighter\",\n",
       " \"Mmmmmm I'm burning.... I'm burning buildings I'm building.... Oooooohhhh oooh ooh...\",\n",
       " \"I'm mentally preparing myself for a bomb ass school year if it's not I'm burning buildings ??\",\n",
       " \"A protest rally at Stone Mountain? Atleast they're not burning down buildings and looting store like some individuals do when they 'protest'\",\n",
       " \"My man runs into burning buildings for a living but is scared to hit up a girl. I don't get it.\",\n",
       " 'THIS SOUNDS LIKE A SONG YOU WOULD HEAR IN A MOVIE WHERE THEY ARE WALKING AWAY FROM BURNING BUILDINGS AND CARS AND SHIT',\n",
       " \"#KCA #VoteJKT48ID DUCKVILLELOL: Burning flips the table and says 'screw this lets hit some buildings!' Grabs a DR \\x89Û_ \",\n",
       " \"Hero's fight wars and save ppl from burning buildings etc I'm sorry but u gotta do more than pay 4 a sex change be4 I call u a hero\",\n",
       " \"Attempting Delany's Dhalgren in beastly NY heat. Downing hot coffee amongst descriptions of buildings burning for days without ruin.\",\n",
       " \"@MoFanon ?? your last retweet you would think the lion saved people from a burning buildings it's not that deep\",\n",
       " 'like for the music video I want some real action shit like burning buildings and police chases not some weak ben winston shit',\n",
       " \"I'm battling monsters I'm pulling you out of the burning buildings and you say I'll give you anything but you never come through.\",\n",
       " 'Ali you flew planes and ran into burning buildings why are you making soup for that man child?! #BooRadleyVanCullen',\n",
       " 'drew storen is probably curing cancer &amp; saving puppies from burning buildings while contemplating what he did 2 deserve this disrespect',\n",
       " 'Ah yes the gays are totally destroying America. I can see buildings burning and meteors crashing into schools wow',\n",
       " \"if firefighters acted like cops they'd drive around shooting a flamethrower at burning buildings\",\n",
       " \"'i never understood guys who wanted to run into burning buildings.'\\n'you chase murderers.'\\n'not if they're on fire.'\",\n",
       " 'Ted Cruz fires back at Jeb &amp; Bush: \\x89ÛÏWe lose because of Republicans like Jeb &amp; Mitt.\\x89Û\\x9d [Video] -  ',\n",
       " 'Ted Cruz fires back at Jeb &amp; Bush: \\x89ÛÏWe lose because of Republicans like Jeb &amp; Mitt.\\x89Û\\x9d [Video] -  ',\n",
       " \"'When you attack women's health you attack America's health.' Hillary Clinton shows how to #StandwithPP \",\n",
       " 'On holiday to relax sunbathe and drink ... Putting out bush fires? Not so much ?? #spain ',\n",
       " 'One thing you can be sure of. There will never be bush fires in Scotland as the ground is always soaking wet????',\n",
       " 'Ted Cruz fires back at Jeb &amp; Bush: \\x89ÛÏWe lose because of Republicans like Jeb &amp; Mitt.\\x89Û\\x9d [Video] ',\n",
       " 'Ted Cruz fires back at Jeb &amp; Bush: \\x89ÛÏWe lose because of Republicans like Jeb &amp; Mitt.\\x89Û\\x9d [Video] -  ',\n",
       " 'That triumphant moment when you cook up two eggs over easy with no yolk casualties ?? ',\n",
       " \"@LibertarianLuke I'm all for that to be honest. If people want to go on a rampage let them use their own hands and feet. No casualties.\",\n",
       " '@LasVegasLocally @VitalVegas They reined it in to 3 drinks each for 2 people but only on account of too many falling-off-stool casualties!',\n",
       " 'The more I listen to it the more I believe Casualties of Cool is one of the best albums there ever was.',\n",
       " '\\x89ÛÏThe road to power is paved with hypocrisy and casualties.\\x89Û\\x9d #FrancisUnderwood #HoC ',\n",
       " \"Stay tuned or don't idc #casualties \",\n",
       " 'Whimsy as it pertains to mass casualties. Always impressive.',\n",
       " \"We're #hiring in our Toronto branch! Surety Underwriter/Senior Underwriter and Casualty Product Leader. Apply today. \",\n",
       " 'Being able to stay out of work this week to take online courses for the Property and Casualty State\\x89Û_ ',\n",
       " \"Was '80s New #Wave a #Casualty of #AIDS?: Tweet And Since they\\x89Ûªd grown up watching David\\x89Û_ \",\n",
       " '1st Quality Insurance Group is #hiring Licensed Property &amp; Casualty Insurance Agent Produc  #jobs #Denver',\n",
       " \"'Become another casualty of society'\",\n",
       " \"WANTED: gritty and real casualty photos of Pasta Thursdays at Amico's. Tag us or #amicospizzato #seeyouatamicos... \",\n",
       " 'Casualty Team: Ice Cream Recall Sends Chill Through Food Industry ',\n",
       " \"You can't watch 'Home Alone 2' without telling your kids \\n'she used to be on Casualty'. \\n#Homealone2 #film4\",\n",
       " \"AM Best Special Report: How Metrics Correlate to AM Best's Property/Casualty ... - MarketWatch \",\n",
       " 'That took way longer than I expected',\n",
       " \"I still don't know why independence day and social casualty are not on the rowyso setlist these songs would be so good live\",\n",
       " '@Calum5SOS I need to stop doing this to myself???? @s_casualty',\n",
       " '@5SOSFamUpdater social casualty',\n",
       " 'Canceling Deal for 2 Warships #France Agrees to Repay #Russia via @nytimes ',\n",
       " 'Social Casualty #MTVHottest 5SOS',\n",
       " 'Conning Builds Strong Case for Portfolio #Diversification for Property-Casualty Insurers ',\n",
       " 'Casualty Roleplay somebody please am so bored',\n",
       " 'Casualty insurance jobs against hunt up willinghearted into: RPN ',\n",
       " '.@stavernise: France agreed to repay Russia for two warships which were never delivered after economic sanctions  ',\n",
       " '@APPLEOFFIClAL Migrating from iPhoto to Photo is a catastrophe. I have wasted days trying to get this to work. 12 hrsto get to 8% complete.',\n",
       " 'Cultivating Joy In The Face Of Catastrophe And Suffering  #pjnet #tcotåÊ#ccot ',\n",
       " '#Borrowers concerned at possible #interest rate rise. This could be a #catastrophe ',\n",
       " '.@uriminzok The coming catastrophe of the destruction of the puppet republic half naemolgo continue to firmly support. Yiraneuni and against',\n",
       " 'failure is a misfortunebut regret is a catastrophe',\n",
       " \"@deb117 7/30 that catastrophe man opens school w/another he's an athlete not a teacher a principle not fulfilling any inside clerical duties\",\n",
       " '#iphone #twist Ultimate #preparedness library:  Prepare Yourself For Any Catastrophe. Ov ',\n",
       " '@gemmahentsch @megynkelly @DLoesch I can not envision any catastrophe that would prevent a woman placing her child for adoption.',\n",
       " \"Then the stylist who'd been silent says 'there's a cool show on Amazon Prime called Catastrophe...'\",\n",
       " 'God bless catastrophe',\n",
       " '@MaatMHI Slightly diff catastrophe &amp; Barry was running solo but generally the same thing.',\n",
       " 'Pisces tweets need to get better because most the tweets make me sound like a total emotional catastrophe.',\n",
       " 'Taylor and Cara aka Catastrophe and Mother Chucker behind the scenes of Bad Blood. Vote:  #VMAs ',\n",
       " '[reviews] #PixelsMovie not a catastrophe nor a funny movie... our review here : ',\n",
       " 'Burford. What a catastrophe! Traffic and big lorries. No action as usual from Council.',\n",
       " '#Denver CO #Insurance #Job: Claims Property Field Adjuster Catastrophe Safeco \\x89ÛÒ USA at Liberty Mutual Insurance ',\n",
       " '#spark #song Ultimate #preparedness library:  Prepare Yourself For Any Catastrophe. Over ',\n",
       " '12 Month Payday Short Catastrophe Loans - Promote Finance Your Desire lIQd',\n",
       " 'I rated Catastrophe (2015) 8/10  #IMDb - hilarious! ',\n",
       " '.@AIGinsurance CEO: Divestitures and #Catastrophe Losses Temper Q2 #Results ',\n",
       " 'Oh my god that\\x89Ûªs the biggest #gbbo catastrophe I have EVER seen. \\n\\nNot that I watch the show or am into it at all ??',\n",
       " \"not a catastrophe at all I'm perfectly content. being the only one means nothing when I'm being controlled. text me if you got crap to say\",\n",
       " '@MasochisticMage + catastrophe! It caused people to get reckless and the bottom line is that at least three of your friends will have +',\n",
       " \"I had 2 regular coffees and a Rockstar + coffee today and I'm still tired.\",\n",
       " \"Alaska's #Wolves face catastrophe Denali Wolves population plummeted to 48! #SaveDenaliWolves TWEETSTORM: \",\n",
       " \"@mark_argent I haven't watched that one yet. Just finished Catastrophe which is amazing\",\n",
       " 'Human history becomes more and more a race between education and catastrophe.',\n",
       " 'Success is not built on success. Its built on failure. Its built on frustration. Its built on catastrophe. #real',\n",
       " 'Britney Spears &gt; Vegas!! I missed you so much! ?? Can\\x89Ûªt wait for the show tonight ?? #PieceOfMe \\n\\n?? Catastrophe ?? ',\n",
       " \"'Climate change could be catastrophic -- but it does have some benefits.' Really @weathernetwork?!?! \",\n",
       " 'catastrophic-fallen-angel: reveillertm: macabrelolita: I was supposed to write \\x89Û÷amino acids\\x89Ûª and I nearly... ',\n",
       " \"@marginoferror I wish going custom ROM weren't so catastrophic\",\n",
       " \"The best part of old baseball managers wearing uniforms is the implication that if something catastrophic happens they'll grab a glove.\",\n",
       " '@MyVintageSoul ...of the British upper class and his manservant.  The pampered wealthy Brit causes a catastrophic shift (reversal) of...',\n",
       " '@SenSchumer Is this what U want Netanyahu leading these UNITED STATES into a CATASTROPHIC religious world war? ENOUGH already!',\n",
       " 'Excited not only about the next 6 years of school and ensuing student debt but also catastrophic climate change in my lifetime   \\n\\n:D ??',\n",
       " 'Pretty much every time the audio dies on an audio stream for a baseball game I assume catastrophic nuclear attack.',\n",
       " 'Looking for a #Defendant #Catastrophic Injury Solicitor #jobs  ',\n",
       " '@SyringeToAnger åÇ and probably even more. But some disagreements with General Ross and the catastrophic occurrence made something clear. åÈ',\n",
       " 'Emergency Response and Hazardous Chemical Management: Principles and Practices  ',\n",
       " 'THE CHEMICAL BROTHERS to play The Armory in SF tomorrow night!: EMERGENCY BAY AREA EDM ANNOUNCEMENT \\x89ÛÒ THE CHEM... ',\n",
       " '.@david_cameron Stop upsetting this bee! Listen to science not chemical companies #savebees  ',\n",
       " 'THE CHEMICAL BROTHERS to play The Armory in SF tomorrow night!: EMERGENCY BAY AREA EDM ANNOUNCEMENT \\x89ÛÒ THE CHEM... ',\n",
       " 'Sign the petition @david_cameron to protect bees instead of toxic chemical companies want to harm them! #savebees  - ',\n",
       " 'New #job opening at Downtown Emergency Service Center in #Seattle - #Chemical #Dependency Counselor or Intern #jobs ',\n",
       " 'Google Alert: Emergency units simulate a chemical explosion at NU ',\n",
       " 'Downtown Emergency Service Center is hiring! #Chemical #Dependency Counselor or Intern in #Seattle apply now! #jobs ',\n",
       " 'Do you have a plan in case of a pool chemical emergency? Learn more here:  #watersafety @CDC',\n",
       " '@pjcoyle ... need to be included in emergency planning for chemical plants. See also ',\n",
       " \"We know this is bad for the bees - don't give in to pressure from short term profit obsessed chemical companies... \",\n",
       " 'Nueva favorita: EmergeNCY feat. The Chemical Brothers / My Bits  @DeezerColombia',\n",
       " 'Downtown Emergency Service Center is hiring a #Chemical #Dependency Counselor or Intern apply now! #Seattle #jobs ',\n",
       " 'Downtown Emergency Service Center is hiring! #Chemical #Dependency Counselor or Intern in #Seattle apply now! #jobs ',\n",
       " 'Day 2. Liquidation of emergency at chemical object. #USAR2015 #USAR15 #RUOR #??????????? ',\n",
       " 'Please stand up for bees against profit-hungry chemical companies. Keep the ban &amp; #Savebees \\nSign the petition now:\\n',\n",
       " '@laevantine Fortunately I reworked the plumbing on my emergency chemical shower to draw from the glitter pipe for just such an occasion',\n",
       " \"@Chemical_Babe its a family emergency so I can't make it unless I have a chance to use by phone for stream.\",\n",
       " \"'Go too Ibiza Pop ah Pill Get DRUNK &amp; Fall off a Cliff'. (Real Talk) @DannyJohnJules @Spencer_Fearon @ChristieLinford\",\n",
       " '@D33munni @JeanNamibian noooooooo ... *proceeds to fall off a cliff*',\n",
       " 'Fuck  Neil go fall off a cliff or something.....#yr ??????',\n",
       " 'Beat the #heat. Today only Kill Cliff Free Fall $2. Pick up a #cold drink today after the #tough #crossfit... ',\n",
       " \"NEWS FLASH!  Any decent billers been promoted to 'manager'? If so let me know as I want to watch your billings fall off a cliff.\\n#Humble\",\n",
       " 'I regress and I slip and I fall off that cliff',\n",
       " \"If you're reading this go accidentally fall off a cliff mate\",\n",
       " 'If u faved that I hope you fall off a cliff ??',\n",
       " 'Photographer Brian Ruebs endures 4500-feet climb to capture bride and groom ',\n",
       " 'alex is making me watch 107 facts about minions i want to fall off a cliff help',\n",
       " 'Do me a favor and fall off a cliff',\n",
       " \"@AlexJacobsonPFS All Andre and Gore have to do is not fall off the cliff and we're elite on that side of the ball.\",\n",
       " 'I hope they fall off a cliff.',\n",
       " \"Don't let your style fall flat this summer! Lord &amp; Cliff #thinkpink #magichairbump is your answer. Adding this... \",\n",
       " \"When you're in deep sleep and then you dream you're bout to fall off a cliff then wake up while struggling to keep a balance\",\n",
       " 'Currently want to drive my car off a cliff and fall to my death.',\n",
       " 'I hope you fall off a cliff',\n",
       " '@punkblunts @sincerelyevelnn fall off a cliff into hell idc',\n",
       " 'Photographer Brian Ruebs endures 4500-feet climb to capture bride and groom ',\n",
       " '@SZMNextDoor I got this cute lil cliff you can fall off of??',\n",
       " 'i hope u trip n fall of a cliff after this tweet ',\n",
       " 'One day I want someone to run for the ferry fall and crack there face open for almost knocking me over just to get on a boat ??????',\n",
       " 'Gulfport Energy - All-In Realizations Fall Off A Cliff ',\n",
       " '*Jumps off of a cliff while drinking tea*\\n\\nThis is how British people fall off cliffs.',\n",
       " 'That sounds like a really bad idea I like Yoenis but I feel like his production could fall off a huge cliff.',\n",
       " \"'I'm there!' Bride &amp; Groom on mountain cliff edge. Ha Ha just kidding. I WILL NOT EVER be there. Ha Ha - \",\n",
       " 'ESN :  Cilla Black died of stroke after fall in Spain: Sir Cliff revealed he was due to visit her in Spain next\\x89Û_ ',\n",
       " '#NowPlaying * Cliff Richard - I Could Easily Fall (In Love With You) (&amp; Shadows) * #Internet #Nieuws #Radio On ',\n",
       " 'Time collapse is such a cool video technique.  ',\n",
       " \"@GeoffRickly I don't see the option to buy the full collapse vinyl with tee bundle just the waiting?\",\n",
       " 'Warne Ponting shocked by Australian collapse - Yahoo Cricket India ',\n",
       " \"@BasilDudin The 'barbaric Saudies' as you said they relive Austrian economy. If we stop coming here many project will collapse.\",\n",
       " ...]"
      ]
     },
     "execution_count": 128,
     "metadata": {},
     "output_type": "execute_result"
    }
   ],
   "source": [
    "tweet_real.tolist()\n",
    "tweet_fake.tolist()"
   ]
  },
  {
   "cell_type": "code",
   "execution_count": 129,
   "metadata": {},
   "outputs": [],
   "source": [
    "processed_real = list(map(process_text, tweet_real))\n",
    "processed_fake = list(map(process_text, tweet_fake))"
   ]
  },
  {
   "cell_type": "code",
   "execution_count": 130,
   "metadata": {},
   "outputs": [
    {
     "name": "stdout",
     "output_type": "stream",
     "text": [
      "31008 words total, with a vocabulary size of 8496\n",
      "Max sentence length is 21\n"
     ]
    }
   ],
   "source": [
    "all_real_words = [word for tokens in processed_real for word in tokens]\n",
    "real_sentence_lengths = [len(tokens) for tokens in processed_real]\n",
    "real_vocab = sorted(list(set(all_real_words)))\n",
    "print(\"%s words total, with a vocabulary size of %s\" % (len(all_real_words), len(real_vocab)))\n",
    "print(\"Max sentence length is %s\" % max(real_sentence_lengths))"
   ]
  },
  {
   "cell_type": "code",
   "execution_count": 131,
   "metadata": {},
   "outputs": [
    {
     "name": "stdout",
     "output_type": "stream",
     "text": [
      "35282 words total, with a vocabulary size of 10817\n",
      "Max sentence length is 23\n"
     ]
    }
   ],
   "source": [
    "all_fake_words = [word for tokens in processed_fake for word in tokens]\n",
    "fake_sentence_lengths = [len(tokens) for tokens in processed_fake]\n",
    "fake_vocab = sorted(list(set(all_fake_words)))\n",
    "print(\"%s words total, with a vocabulary size of %s\" % (len(all_fake_words), len(fake_vocab)))\n",
    "print(\"Max sentence length is %s\" % max(fake_sentence_lengths))"
   ]
  },
  {
   "cell_type": "code",
   "execution_count": 140,
   "metadata": {},
   "outputs": [],
   "source": [
    "flat_real = [item for sublist in processed_real for item in sublist]\n",
    "flat_fake = [item for sublist in processed_fake for item in sublist]"
   ]
  },
  {
   "cell_type": "code",
   "execution_count": 141,
   "metadata": {},
   "outputs": [],
   "source": [
    "real_freq = FreqDist(flat_real)\n",
    "fake_freq = FreqDist(flat_fake)"
   ]
  },
  {
   "cell_type": "code",
   "execution_count": 142,
   "metadata": {},
   "outputs": [
    {
     "data": {
      "text/plain": [
       "FreqDist({'fire': 180, 'via': 121, 'disaster': 113, 'suicide': 112, 'california': 111, 'police': 108, 'people': 104, 'killed': 94, 'storm': 87, 'fires': 85, ...})"
      ]
     },
     "execution_count": 142,
     "metadata": {},
     "output_type": "execute_result"
    }
   ],
   "source": [
    "real_freq"
   ]
  },
  {
   "cell_type": "code",
   "execution_count": 143,
   "metadata": {},
   "outputs": [
    {
     "data": {
      "text/plain": [
       "FreqDist({'body': 115, 'would': 101, 'via': 99, 'people': 94, 'video': 94, 'love': 87, 'day': 86, 'know': 86, 'time': 84, 'got': 84, ...})"
      ]
     },
     "execution_count": 143,
     "metadata": {},
     "output_type": "execute_result"
    }
   ],
   "source": [
    "fake_freq"
   ]
  },
  {
   "cell_type": "code",
   "execution_count": 144,
   "metadata": {
    "collapsed": true,
    "jupyter": {
     "outputs_hidden": true
    }
   },
   "outputs": [
    {
     "data": {
      "text/plain": [
       "[('fire', 180),\n",
       " ('via', 121),\n",
       " ('disaster', 113),\n",
       " ('suicide', 112),\n",
       " ('california', 111),\n",
       " ('police', 108),\n",
       " ('people', 104),\n",
       " ('killed', 94),\n",
       " ('storm', 87),\n",
       " ('fires', 85),\n",
       " ('crash', 83),\n",
       " ('news', 83),\n",
       " ('families', 81),\n",
       " ('train', 79),\n",
       " ('bomb', 76),\n",
       " ('buildings', 76),\n",
       " ('emergency', 74),\n",
       " ('two', 74),\n",
       " ('attack', 71),\n",
       " ('hiroshima', 70)]"
      ]
     },
     "execution_count": 144,
     "metadata": {},
     "output_type": "execute_result"
    }
   ],
   "source": [
    "real_freq.most_common(20)"
   ]
  },
  {
   "cell_type": "code",
   "execution_count": 163,
   "metadata": {},
   "outputs": [],
   "source": [
    "fake_frequency = fake_freq.most_common()"
   ]
  },
  {
   "cell_type": "code",
   "execution_count": 181,
   "metadata": {},
   "outputs": [],
   "source": [
    "fake_freq_col = []\n",
    "for items in fake_frequency:\n",
    "    fake_freq_col.append(items[0])"
   ]
  },
  {
   "cell_type": "code",
   "execution_count": 183,
   "metadata": {},
   "outputs": [],
   "source": [
    "fake_freq_value = []\n",
    "for items in fake_frequency:\n",
    "    fake_freq_value.append(items[1])"
   ]
  },
  {
   "cell_type": "code",
   "execution_count": 185,
   "metadata": {
    "collapsed": true,
    "jupyter": {
     "outputs_hidden": true
    }
   },
   "outputs": [
    {
     "data": {
      "text/plain": [
       "[115,\n",
       " 101,\n",
       " 99,\n",
       " 94,\n",
       " 94,\n",
       " 87,\n",
       " 86,\n",
       " 86,\n",
       " 84,\n",
       " 84,\n",
       " 84,\n",
       " 84,\n",
       " 82,\n",
       " 79,\n",
       " 76,\n",
       " 76,\n",
       " 72,\n",
       " 72,\n",
       " 70,\n",
       " 67]"
      ]
     },
     "execution_count": 185,
     "metadata": {},
     "output_type": "execute_result"
    }
   ],
   "source": [
    "fake_freq_col\n",
    "fake_freq_value"
   ]
  },
  {
   "cell_type": "code",
   "execution_count": 213,
   "metadata": {},
   "outputs": [],
   "source": [
    "# create counts of real and fake disaster tweets with values and words\n",
    "\n",
    "real_bar_counts = [x[1] for x in real_freq.most_common(15)]\n",
    "real_bar_words = [x[0] for x in real_freq.most_common(15)]\n",
    "\n",
    "fake_bar_counts = [x[1] for x in fake_freq.most_common(15)]\n",
    "fake_bar_words = [x[0] for x in fake_freq.most_common(15)]"
   ]
  },
  {
   "cell_type": "code",
   "execution_count": 209,
   "metadata": {
    "collapsed": true,
    "jupyter": {
     "outputs_hidden": true
    }
   },
   "outputs": [
    {
     "ename": "AttributeError",
     "evalue": "'Rectangle' object has no property 'sort'",
     "output_type": "error",
     "traceback": [
      "\u001b[0;31m---------------------------------------------------------------------------\u001b[0m",
      "\u001b[0;31mAttributeError\u001b[0m                            Traceback (most recent call last)",
      "\u001b[0;32m<ipython-input-209-6e86038db973>\u001b[0m in \u001b[0;36m<module>\u001b[0;34m\u001b[0m\n\u001b[1;32m      1\u001b[0m \u001b[0mfig\u001b[0m \u001b[0;34m=\u001b[0m \u001b[0mplt\u001b[0m\u001b[0;34m.\u001b[0m\u001b[0mfigure\u001b[0m\u001b[0;34m(\u001b[0m\u001b[0mfigsize\u001b[0m\u001b[0;34m=\u001b[0m\u001b[0;34m(\u001b[0m\u001b[0;36m10\u001b[0m\u001b[0;34m,\u001b[0m \u001b[0;36m10\u001b[0m\u001b[0;34m)\u001b[0m\u001b[0;34m)\u001b[0m\u001b[0;34m\u001b[0m\u001b[0;34m\u001b[0m\u001b[0m\n\u001b[0;32m----> 2\u001b[0;31m \u001b[0mplt\u001b[0m\u001b[0;34m.\u001b[0m\u001b[0mbarh\u001b[0m\u001b[0;34m(\u001b[0m\u001b[0mfake_freq_col\u001b[0m\u001b[0;34m,\u001b[0m \u001b[0mfake_freq_value\u001b[0m\u001b[0;34m,\u001b[0m \u001b[0msort\u001b[0m \u001b[0;34m=\u001b[0m \u001b[0;32mTrue\u001b[0m\u001b[0;34m)\u001b[0m\u001b[0;34m\u001b[0m\u001b[0;34m\u001b[0m\u001b[0m\n\u001b[0m\u001b[1;32m      3\u001b[0m \u001b[0mplt\u001b[0m\u001b[0;34m.\u001b[0m\u001b[0mshow\u001b[0m\u001b[0;34m(\u001b[0m\u001b[0;34m)\u001b[0m\u001b[0;34m\u001b[0m\u001b[0;34m\u001b[0m\u001b[0m\n",
      "\u001b[0;32m/opt/anaconda3/lib/python3.7/site-packages/matplotlib/pyplot.py\u001b[0m in \u001b[0;36mbarh\u001b[0;34m(y, width, height, left, align, **kwargs)\u001b[0m\n\u001b[1;32m   2452\u001b[0m \u001b[0;32mdef\u001b[0m \u001b[0mbarh\u001b[0m\u001b[0;34m(\u001b[0m\u001b[0my\u001b[0m\u001b[0;34m,\u001b[0m \u001b[0mwidth\u001b[0m\u001b[0;34m,\u001b[0m \u001b[0mheight\u001b[0m\u001b[0;34m=\u001b[0m\u001b[0;36m0.8\u001b[0m\u001b[0;34m,\u001b[0m \u001b[0mleft\u001b[0m\u001b[0;34m=\u001b[0m\u001b[0;32mNone\u001b[0m\u001b[0;34m,\u001b[0m \u001b[0;34m*\u001b[0m\u001b[0;34m,\u001b[0m \u001b[0malign\u001b[0m\u001b[0;34m=\u001b[0m\u001b[0;34m'center'\u001b[0m\u001b[0;34m,\u001b[0m \u001b[0;34m**\u001b[0m\u001b[0mkwargs\u001b[0m\u001b[0;34m)\u001b[0m\u001b[0;34m:\u001b[0m\u001b[0;34m\u001b[0m\u001b[0;34m\u001b[0m\u001b[0m\n\u001b[1;32m   2453\u001b[0m     return gca().barh(\n\u001b[0;32m-> 2454\u001b[0;31m         y, width, height=height, left=left, align=align, **kwargs)\n\u001b[0m\u001b[1;32m   2455\u001b[0m \u001b[0;34m\u001b[0m\u001b[0m\n\u001b[1;32m   2456\u001b[0m \u001b[0;34m\u001b[0m\u001b[0m\n",
      "\u001b[0;32m/opt/anaconda3/lib/python3.7/site-packages/matplotlib/axes/_axes.py\u001b[0m in \u001b[0;36mbarh\u001b[0;34m(self, y, width, height, left, align, **kwargs)\u001b[0m\n\u001b[1;32m   2595\u001b[0m         \u001b[0mkwargs\u001b[0m\u001b[0;34m.\u001b[0m\u001b[0msetdefault\u001b[0m\u001b[0;34m(\u001b[0m\u001b[0;34m'orientation'\u001b[0m\u001b[0;34m,\u001b[0m \u001b[0;34m'horizontal'\u001b[0m\u001b[0;34m)\u001b[0m\u001b[0;34m\u001b[0m\u001b[0;34m\u001b[0m\u001b[0m\n\u001b[1;32m   2596\u001b[0m         patches = self.bar(x=left, height=height, width=width, bottom=y,\n\u001b[0;32m-> 2597\u001b[0;31m                            align=align, **kwargs)\n\u001b[0m\u001b[1;32m   2598\u001b[0m         \u001b[0;32mreturn\u001b[0m \u001b[0mpatches\u001b[0m\u001b[0;34m\u001b[0m\u001b[0;34m\u001b[0m\u001b[0m\n\u001b[1;32m   2599\u001b[0m \u001b[0;34m\u001b[0m\u001b[0m\n",
      "\u001b[0;32m/opt/anaconda3/lib/python3.7/site-packages/matplotlib/__init__.py\u001b[0m in \u001b[0;36minner\u001b[0;34m(ax, data, *args, **kwargs)\u001b[0m\n\u001b[1;32m   1599\u001b[0m     \u001b[0;32mdef\u001b[0m \u001b[0minner\u001b[0m\u001b[0;34m(\u001b[0m\u001b[0max\u001b[0m\u001b[0;34m,\u001b[0m \u001b[0;34m*\u001b[0m\u001b[0margs\u001b[0m\u001b[0;34m,\u001b[0m \u001b[0mdata\u001b[0m\u001b[0;34m=\u001b[0m\u001b[0;32mNone\u001b[0m\u001b[0;34m,\u001b[0m \u001b[0;34m**\u001b[0m\u001b[0mkwargs\u001b[0m\u001b[0;34m)\u001b[0m\u001b[0;34m:\u001b[0m\u001b[0;34m\u001b[0m\u001b[0;34m\u001b[0m\u001b[0m\n\u001b[1;32m   1600\u001b[0m         \u001b[0;32mif\u001b[0m \u001b[0mdata\u001b[0m \u001b[0;32mis\u001b[0m \u001b[0;32mNone\u001b[0m\u001b[0;34m:\u001b[0m\u001b[0;34m\u001b[0m\u001b[0;34m\u001b[0m\u001b[0m\n\u001b[0;32m-> 1601\u001b[0;31m             \u001b[0;32mreturn\u001b[0m \u001b[0mfunc\u001b[0m\u001b[0;34m(\u001b[0m\u001b[0max\u001b[0m\u001b[0;34m,\u001b[0m \u001b[0;34m*\u001b[0m\u001b[0mmap\u001b[0m\u001b[0;34m(\u001b[0m\u001b[0msanitize_sequence\u001b[0m\u001b[0;34m,\u001b[0m \u001b[0margs\u001b[0m\u001b[0;34m)\u001b[0m\u001b[0;34m,\u001b[0m \u001b[0;34m**\u001b[0m\u001b[0mkwargs\u001b[0m\u001b[0;34m)\u001b[0m\u001b[0;34m\u001b[0m\u001b[0;34m\u001b[0m\u001b[0m\n\u001b[0m\u001b[1;32m   1602\u001b[0m \u001b[0;34m\u001b[0m\u001b[0m\n\u001b[1;32m   1603\u001b[0m         \u001b[0mbound\u001b[0m \u001b[0;34m=\u001b[0m \u001b[0mnew_sig\u001b[0m\u001b[0;34m.\u001b[0m\u001b[0mbind\u001b[0m\u001b[0;34m(\u001b[0m\u001b[0max\u001b[0m\u001b[0;34m,\u001b[0m \u001b[0;34m*\u001b[0m\u001b[0margs\u001b[0m\u001b[0;34m,\u001b[0m \u001b[0;34m**\u001b[0m\u001b[0mkwargs\u001b[0m\u001b[0;34m)\u001b[0m\u001b[0;34m\u001b[0m\u001b[0;34m\u001b[0m\u001b[0m\n",
      "\u001b[0;32m/opt/anaconda3/lib/python3.7/site-packages/matplotlib/axes/_axes.py\u001b[0m in \u001b[0;36mbar\u001b[0;34m(self, x, height, width, bottom, align, **kwargs)\u001b[0m\n\u001b[1;32m   2430\u001b[0m                 \u001b[0mlabel\u001b[0m\u001b[0;34m=\u001b[0m\u001b[0;34m'_nolegend_'\u001b[0m\u001b[0;34m,\u001b[0m\u001b[0;34m\u001b[0m\u001b[0;34m\u001b[0m\u001b[0m\n\u001b[1;32m   2431\u001b[0m                 )\n\u001b[0;32m-> 2432\u001b[0;31m             \u001b[0mr\u001b[0m\u001b[0;34m.\u001b[0m\u001b[0mupdate\u001b[0m\u001b[0;34m(\u001b[0m\u001b[0mkwargs\u001b[0m\u001b[0;34m)\u001b[0m\u001b[0;34m\u001b[0m\u001b[0;34m\u001b[0m\u001b[0m\n\u001b[0m\u001b[1;32m   2433\u001b[0m             \u001b[0mr\u001b[0m\u001b[0;34m.\u001b[0m\u001b[0mget_path\u001b[0m\u001b[0;34m(\u001b[0m\u001b[0;34m)\u001b[0m\u001b[0;34m.\u001b[0m\u001b[0m_interpolation_steps\u001b[0m \u001b[0;34m=\u001b[0m \u001b[0;36m100\u001b[0m\u001b[0;34m\u001b[0m\u001b[0;34m\u001b[0m\u001b[0m\n\u001b[1;32m   2434\u001b[0m             \u001b[0;32mif\u001b[0m \u001b[0morientation\u001b[0m \u001b[0;34m==\u001b[0m \u001b[0;34m'vertical'\u001b[0m\u001b[0;34m:\u001b[0m\u001b[0;34m\u001b[0m\u001b[0;34m\u001b[0m\u001b[0m\n",
      "\u001b[0;32m/opt/anaconda3/lib/python3.7/site-packages/matplotlib/artist.py\u001b[0m in \u001b[0;36mupdate\u001b[0;34m(self, props)\u001b[0m\n\u001b[1;32m    972\u001b[0m \u001b[0;34m\u001b[0m\u001b[0m\n\u001b[1;32m    973\u001b[0m         \u001b[0;32mwith\u001b[0m \u001b[0mcbook\u001b[0m\u001b[0;34m.\u001b[0m\u001b[0m_setattr_cm\u001b[0m\u001b[0;34m(\u001b[0m\u001b[0mself\u001b[0m\u001b[0;34m,\u001b[0m \u001b[0meventson\u001b[0m\u001b[0;34m=\u001b[0m\u001b[0;32mFalse\u001b[0m\u001b[0;34m)\u001b[0m\u001b[0;34m:\u001b[0m\u001b[0;34m\u001b[0m\u001b[0;34m\u001b[0m\u001b[0m\n\u001b[0;32m--> 974\u001b[0;31m             \u001b[0mret\u001b[0m \u001b[0;34m=\u001b[0m \u001b[0;34m[\u001b[0m\u001b[0m_update_property\u001b[0m\u001b[0;34m(\u001b[0m\u001b[0mself\u001b[0m\u001b[0;34m,\u001b[0m \u001b[0mk\u001b[0m\u001b[0;34m,\u001b[0m \u001b[0mv\u001b[0m\u001b[0;34m)\u001b[0m \u001b[0;32mfor\u001b[0m \u001b[0mk\u001b[0m\u001b[0;34m,\u001b[0m \u001b[0mv\u001b[0m \u001b[0;32min\u001b[0m \u001b[0mprops\u001b[0m\u001b[0;34m.\u001b[0m\u001b[0mitems\u001b[0m\u001b[0;34m(\u001b[0m\u001b[0;34m)\u001b[0m\u001b[0;34m]\u001b[0m\u001b[0;34m\u001b[0m\u001b[0;34m\u001b[0m\u001b[0m\n\u001b[0m\u001b[1;32m    975\u001b[0m \u001b[0;34m\u001b[0m\u001b[0m\n\u001b[1;32m    976\u001b[0m         \u001b[0;32mif\u001b[0m \u001b[0mlen\u001b[0m\u001b[0;34m(\u001b[0m\u001b[0mret\u001b[0m\u001b[0;34m)\u001b[0m\u001b[0;34m:\u001b[0m\u001b[0;34m\u001b[0m\u001b[0;34m\u001b[0m\u001b[0m\n",
      "\u001b[0;32m/opt/anaconda3/lib/python3.7/site-packages/matplotlib/artist.py\u001b[0m in \u001b[0;36m<listcomp>\u001b[0;34m(.0)\u001b[0m\n\u001b[1;32m    972\u001b[0m \u001b[0;34m\u001b[0m\u001b[0m\n\u001b[1;32m    973\u001b[0m         \u001b[0;32mwith\u001b[0m \u001b[0mcbook\u001b[0m\u001b[0;34m.\u001b[0m\u001b[0m_setattr_cm\u001b[0m\u001b[0;34m(\u001b[0m\u001b[0mself\u001b[0m\u001b[0;34m,\u001b[0m \u001b[0meventson\u001b[0m\u001b[0;34m=\u001b[0m\u001b[0;32mFalse\u001b[0m\u001b[0;34m)\u001b[0m\u001b[0;34m:\u001b[0m\u001b[0;34m\u001b[0m\u001b[0;34m\u001b[0m\u001b[0m\n\u001b[0;32m--> 974\u001b[0;31m             \u001b[0mret\u001b[0m \u001b[0;34m=\u001b[0m \u001b[0;34m[\u001b[0m\u001b[0m_update_property\u001b[0m\u001b[0;34m(\u001b[0m\u001b[0mself\u001b[0m\u001b[0;34m,\u001b[0m \u001b[0mk\u001b[0m\u001b[0;34m,\u001b[0m \u001b[0mv\u001b[0m\u001b[0;34m)\u001b[0m \u001b[0;32mfor\u001b[0m \u001b[0mk\u001b[0m\u001b[0;34m,\u001b[0m \u001b[0mv\u001b[0m \u001b[0;32min\u001b[0m \u001b[0mprops\u001b[0m\u001b[0;34m.\u001b[0m\u001b[0mitems\u001b[0m\u001b[0;34m(\u001b[0m\u001b[0;34m)\u001b[0m\u001b[0;34m]\u001b[0m\u001b[0;34m\u001b[0m\u001b[0;34m\u001b[0m\u001b[0m\n\u001b[0m\u001b[1;32m    975\u001b[0m \u001b[0;34m\u001b[0m\u001b[0m\n\u001b[1;32m    976\u001b[0m         \u001b[0;32mif\u001b[0m \u001b[0mlen\u001b[0m\u001b[0;34m(\u001b[0m\u001b[0mret\u001b[0m\u001b[0;34m)\u001b[0m\u001b[0;34m:\u001b[0m\u001b[0;34m\u001b[0m\u001b[0;34m\u001b[0m\u001b[0m\n",
      "\u001b[0;32m/opt/anaconda3/lib/python3.7/site-packages/matplotlib/artist.py\u001b[0m in \u001b[0;36m_update_property\u001b[0;34m(self, k, v)\u001b[0m\n\u001b[1;32m    968\u001b[0m                 \u001b[0;32mif\u001b[0m \u001b[0;32mnot\u001b[0m \u001b[0mcallable\u001b[0m\u001b[0;34m(\u001b[0m\u001b[0mfunc\u001b[0m\u001b[0;34m)\u001b[0m\u001b[0;34m:\u001b[0m\u001b[0;34m\u001b[0m\u001b[0;34m\u001b[0m\u001b[0m\n\u001b[1;32m    969\u001b[0m                     raise AttributeError('{!r} object has no property {!r}'\n\u001b[0;32m--> 970\u001b[0;31m                                          .format(type(self).__name__, k))\n\u001b[0m\u001b[1;32m    971\u001b[0m                 \u001b[0;32mreturn\u001b[0m \u001b[0mfunc\u001b[0m\u001b[0;34m(\u001b[0m\u001b[0mv\u001b[0m\u001b[0;34m)\u001b[0m\u001b[0;34m\u001b[0m\u001b[0;34m\u001b[0m\u001b[0m\n\u001b[1;32m    972\u001b[0m \u001b[0;34m\u001b[0m\u001b[0m\n",
      "\u001b[0;31mAttributeError\u001b[0m: 'Rectangle' object has no property 'sort'"
     ]
    },
    {
     "data": {
      "image/png": "[encoded data removed]",
      "text/plain": [
       "<Figure size 720x720 with 1 Axes>"
      ]
     },
     "metadata": {
      "needs_background": "light"
     },
     "output_type": "display_data"
    }
   ],
   "source": [
    "fig = plt.figure(figsize=(10, 10))\n",
    "plt.barh(fake_freq_col, fake_freq_value, sort = True)\n",
    "plt.show()"
   ]
  },
  {
   "cell_type": "code",
   "execution_count": 199,
   "metadata": {},
   "outputs": [],
   "source": [
    "real_bar_words = real_bar_words.reverse()"
   ]
  },
  {
   "cell_type": "code",
   "execution_count": 196,
   "metadata": {},
   "outputs": [],
   "source": [
    "fake_bar_words.reverse()"
   ]
  },
  {
   "cell_type": "code",
   "execution_count": 197,
   "metadata": {},
   "outputs": [
    {
     "data": {
      "text/plain": [
       "['world',\n",
       " 'life',\n",
       " 'think',\n",
       " 'man',\n",
       " 'good',\n",
       " 'want',\n",
       " 'fire',\n",
       " 'gt',\n",
       " 'still',\n",
       " 'us',\n",
       " 'let',\n",
       " 'going',\n",
       " 'emergency',\n",
       " 'see',\n",
       " 'back',\n",
       " 'full',\n",
       " 'got',\n",
       " 'time',\n",
       " 'know',\n",
       " 'day',\n",
       " 'love',\n",
       " 'video',\n",
       " 'people',\n",
       " 'would',\n",
       " 'body']"
      ]
     },
     "execution_count": 197,
     "metadata": {},
     "output_type": "execute_result"
    }
   ],
   "source": [
    "fake_bar_words"
   ]
  },
  {
   "cell_type": "code",
   "execution_count": 302,
   "metadata": {},
   "outputs": [],
   "source": [
    "color_real = cm.inferno(np.linspace(.6,.7, 20))\n",
    "color_fake = cm.cividis(np.linspace(.1,.4, 30))"
   ]
  },
  {
   "cell_type": "code",
   "execution_count": 303,
   "metadata": {},
   "outputs": [
    {
     "data": {
      "image/png": "[encoded data removed]",
      "text/plain": [
       "<Figure size 1152x576 with 2 Axes>"
      ]
     },
     "metadata": {},
     "output_type": "display_data"
    }
   ],
   "source": [
    "sns.set_style('darkgrid')\n",
    "new_figure = plt.figure(figsize=(16,8))\n",
    "\n",
    "ax = new_figure.add_subplot(121)\n",
    "ax2 = new_figure.add_subplot(122)\n",
    "\n",
    "# Generate a line plot on first axes\n",
    "ax.bar((real_bar_words), real_bar_counts, color=color_real, align='center', alpha=0.7)\n",
    "# ax.plot(colormap='PRGn')\n",
    "\n",
    "# Draw a scatter plot on 2nd axes\n",
    "ax2.bar(fake_bar_words, fake_bar_counts, color=color_fake, align='center', alpha=0.7)\n",
    "\n",
    "ax.title.set_text('Real Disaster Tweet')\n",
    "ax2.title.set_text('Fake Disaster Tweet')\n",
    "\n",
    "for ax in new_figure.axes:\n",
    "    plt.sca(ax)\n",
    "    plt.xticks(rotation=60, fontsize = 18)\n",
    "    plt.yticks(fontsize = 16)\n",
    "plt.tight_layout(pad=0)\n",
    "\n",
    "# plt.savefig('word count bar graphs.png')\n",
    "\n",
    "plt.show()\n"
   ]
  },
  {
   "cell_type": "code",
   "execution_count": 267,
   "metadata": {},
   "outputs": [
    {
     "data": {
      "image/png": "[encoded data removed]",
      "text/plain": [
       "<Figure size 1224x504 with 2 Axes>"
      ]
     },
     "metadata": {},
     "output_type": "display_data"
    }
   ],
   "source": [
    "fig = plt.figure(figsize=(17, 7))  \n",
    "\n",
    "plt.subplot(121)\n",
    "plt.bar(real_bar_words, real_bar_counts, align='center', alpha=0.5)\n",
    "plt.title('Disaster', fontsize=20)\n",
    "#plt.yticks(real_bar_words, fontsize=18)\n",
    "plt.xlabel('Importance', fontsize=20)\n",
    "plt.xticks(rotation = 60, fontsize = 18)\n",
    "\n",
    "\n",
    "plt.subplot(122)\n",
    "plt.bar(fake_bar_words, fake_bar_counts, align='center', alpha=0.5)\n",
    "plt.title('Fake Disaster', fontsize=20)\n",
    "plt.xticks(rotation = 60, fontsize=18)\n",
    "#plt.xlabel('Importance', fontsize=20)\n",
    "plt.subplots_adjust(wspace=0.8)\n",
    "plt.show()"
   ]
  },
  {
   "cell_type": "markdown",
   "metadata": {},
   "source": [
    "## Modeling"
   ]
  },
  {
   "cell_type": "code",
   "execution_count": 11,
   "metadata": {},
   "outputs": [],
   "source": [
    "df['text'] = df['text'].apply(lemmatize_text)"
   ]
  },
  {
   "cell_type": "code",
   "execution_count": 12,
   "metadata": {},
   "outputs": [],
   "source": [
    "tweet_list = df['text'].tolist()"
   ]
  },
  {
   "cell_type": "code",
   "execution_count": 13,
   "metadata": {},
   "outputs": [],
   "source": [
    "joined_tweets = [] \n",
    "for words in tweet_list: \n",
    "    superlist = ' '.join(x for x in words)\n",
    "    joined_tweets.append(superlist)\n",
    "    "
   ]
  },
  {
   "cell_type": "code",
   "execution_count": 14,
   "metadata": {},
   "outputs": [],
   "source": [
    "y = df['target']\n",
    "X = joined_tweets"
   ]
  },
  {
   "cell_type": "code",
   "execution_count": 15,
   "metadata": {},
   "outputs": [],
   "source": [
    "X_train, X_test, y_train, y_test = train_test_split(X, y, test_size=0.20, random_state=1)"
   ]
  },
  {
   "cell_type": "code",
   "execution_count": 321,
   "metadata": {},
   "outputs": [],
   "source": [
    "from sklearn.feature_extraction.text import CountVectorizer\n",
    "\n",
    "\n",
    "vec = CountVectorizer(stop_words=None)\n",
    "X_train_vec = vec.fit_transform(X_train)\n",
    "X_test_vec = vec.transform(X_test)"
   ]
  },
  {
   "cell_type": "code",
   "execution_count": 323,
   "metadata": {},
   "outputs": [],
   "source": [
    "X_vec_train = X_train_vec.toarray()\n",
    "X_vec_test = X_test_vec.toarray()"
   ]
  },
  {
   "cell_type": "code",
   "execution_count": 16,
   "metadata": {},
   "outputs": [
    {
     "data": {
      "text/plain": [
       "<6090x11907 sparse matrix of type '<class 'numpy.float64'>'\n",
       "\twith 51689 stored elements in Compressed Sparse Row format>"
      ]
     },
     "execution_count": 16,
     "metadata": {},
     "output_type": "execute_result"
    }
   ],
   "source": [
    "\n",
    "tfidf = TfidfVectorizer()\n",
    "\n",
    "tfidf_data_train = tfidf.fit_transform(X_train)\n",
    "tfidf_data_test = tfidf.transform(X_test)\n",
    "\n",
    "tfidf_data_train"
   ]
  },
  {
   "cell_type": "markdown",
   "metadata": {},
   "source": [
    "## Naive Bayes "
   ]
  },
  {
   "cell_type": "code",
   "execution_count": 318,
   "metadata": {},
   "outputs": [],
   "source": [
    "tf_train = tfidf_data_train.toarray()\n",
    "tf_test = tfidf_data_test.toarray()"
   ]
  },
  {
   "cell_type": "code",
   "execution_count": 324,
   "metadata": {},
   "outputs": [],
   "source": [
    "gnb = GaussianNB()"
   ]
  },
  {
   "cell_type": "code",
   "execution_count": 326,
   "metadata": {},
   "outputs": [
    {
     "data": {
      "text/plain": [
       "GaussianNB(priors=None, var_smoothing=1e-09)"
      ]
     },
     "execution_count": 326,
     "metadata": {},
     "output_type": "execute_result"
    }
   ],
   "source": [
    "gnb.fit(X_vec_train, y_train)"
   ]
  },
  {
   "cell_type": "code",
   "execution_count": 327,
   "metadata": {},
   "outputs": [
    {
     "data": {
      "text/plain": [
       "0.6080105055810899"
      ]
     },
     "execution_count": 327,
     "metadata": {},
     "output_type": "execute_result"
    }
   ],
   "source": [
    "gnb.score(X_vec_test, y_test)"
   ]
  },
  {
   "cell_type": "markdown",
   "metadata": {},
   "source": [
    "## SVM"
   ]
  },
  {
   "cell_type": "code",
   "execution_count": 329,
   "metadata": {},
   "outputs": [],
   "source": [
    "from sklearn import svm"
   ]
  },
  {
   "cell_type": "code",
   "execution_count": 331,
   "metadata": {},
   "outputs": [
    {
     "name": "stderr",
     "output_type": "stream",
     "text": [
      "/opt/anaconda3/lib/python3.7/site-packages/sklearn/svm/base.py:193: FutureWarning: The default value of gamma will change from 'auto' to 'scale' in version 0.22 to account better for unscaled features. Set gamma explicitly to 'auto' or 'scale' to avoid this warning.\n",
      "  \"avoid this warning.\", FutureWarning)\n"
     ]
    },
    {
     "data": {
      "text/plain": [
       "SVC(C=1.0, cache_size=200, class_weight=None, coef0=0.0,\n",
       "    decision_function_shape='ovr', degree=3, gamma='auto_deprecated',\n",
       "    kernel='rbf', max_iter=-1, probability=False, random_state=None,\n",
       "    shrinking=True, tol=0.001, verbose=False)"
      ]
     },
     "execution_count": 331,
     "metadata": {},
     "output_type": "execute_result"
    }
   ],
   "source": [
    "clf = svm.SVC()\n",
    "clf.fit(tfidf_data_train, y_train)"
   ]
  },
  {
   "cell_type": "code",
   "execution_count": 334,
   "metadata": {},
   "outputs": [],
   "source": [
    "S_V = clf.predict(tfidf_data_test)"
   ]
  },
  {
   "cell_type": "code",
   "execution_count": 335,
   "metadata": {},
   "outputs": [
    {
     "name": "stdout",
     "output_type": "stream",
     "text": [
      "              precision    recall  f1-score   support\n",
      "\n",
      "           0       0.58      1.00      0.73       882\n",
      "           1       0.00      0.00      0.00       641\n",
      "\n",
      "    accuracy                           0.58      1523\n",
      "   macro avg       0.29      0.50      0.37      1523\n",
      "weighted avg       0.34      0.58      0.42      1523\n",
      "\n"
     ]
    },
    {
     "name": "stderr",
     "output_type": "stream",
     "text": [
      "/opt/anaconda3/lib/python3.7/site-packages/sklearn/metrics/classification.py:1437: UndefinedMetricWarning: Precision and F-score are ill-defined and being set to 0.0 in labels with no predicted samples.\n",
      "  'precision', 'predicted', average, warn_for)\n"
     ]
    }
   ],
   "source": [
    "print(classification_report(y_test, S_V))"
   ]
  },
  {
   "cell_type": "markdown",
   "metadata": {},
   "source": [
    "## Random Forest "
   ]
  },
  {
   "cell_type": "code",
   "execution_count": 17,
   "metadata": {},
   "outputs": [],
   "source": [
    "RF = RandomForestClassifier(n_estimators=100, random_state=0)"
   ]
  },
  {
   "cell_type": "code",
   "execution_count": 18,
   "metadata": {},
   "outputs": [],
   "source": [
    "forest = RF.fit(tfidf_data_train, y_train)\n",
    "\n",
    "RF_predict = RF.predict(tfidf_data_test)"
   ]
  },
  {
   "cell_type": "code",
   "execution_count": 19,
   "metadata": {},
   "outputs": [
    {
     "name": "stdout",
     "output_type": "stream",
     "text": [
      "\n",
      "AUC is :0.76\n"
     ]
    }
   ],
   "source": [
    "false_positive_rate, true_positive_rate, thresholds = roc_curve(y_test, RF_predict)\n",
    "roc_auc = auc(false_positive_rate, true_positive_rate)\n",
    "print('\\nAUC is :{0}'.format(round(roc_auc, 2)))\n"
   ]
  },
  {
   "cell_type": "code",
   "execution_count": 20,
   "metadata": {},
   "outputs": [
    {
     "name": "stderr",
     "output_type": "stream",
     "text": [
      "/opt/anaconda3/lib/python3.7/site-packages/yellowbrick/classifier/base.py:232: YellowbrickWarning: could not determine class_counts_ from previously fitted classifier\n",
      "  YellowbrickWarning,\n"
     ]
    },
    {
     "data": {
      "image/png": "[encoded data removed]",
      "text/plain": [
       "<Figure size 432x288 with 1 Axes>"
      ]
     },
     "metadata": {
      "needs_background": "light"
     },
     "output_type": "display_data"
    },
    {
     "data": {
      "text/plain": [
       "<matplotlib.axes._subplots.AxesSubplot at 0x125fbfcd0>"
      ]
     },
     "execution_count": 20,
     "metadata": {},
     "output_type": "execute_result"
    }
   ],
   "source": [
    "\n",
    "cm = ConfusionMatrix(forest)\n",
    "\n",
    "# Fit fits the passed model. This is unnecessary if you pass the visualizer a pre-fitted model\n",
    "\n",
    "cm.score(tfidf_data_test, y_test)\n",
    "\n",
    "\n",
    "cm.show()"
   ]
  },
  {
   "cell_type": "code",
   "execution_count": 21,
   "metadata": {},
   "outputs": [
    {
     "name": "stdout",
     "output_type": "stream",
     "text": [
      "              precision    recall  f1-score   support\n",
      "\n",
      "           0       0.78      0.85      0.82       882\n",
      "           1       0.77      0.67      0.72       641\n",
      "\n",
      "    accuracy                           0.78      1523\n",
      "   macro avg       0.78      0.76      0.77      1523\n",
      "weighted avg       0.78      0.78      0.78      1523\n",
      "\n"
     ]
    }
   ],
   "source": [
    "print(classification_report(y_test, RF_predict))"
   ]
  },
  {
   "cell_type": "code",
   "execution_count": null,
   "metadata": {},
   "outputs": [],
   "source": []
  }
 ],
 "metadata": {
  "kernelspec": {
   "display_name": "Python 3",
   "language": "python",
   "name": "python3"
  },
  "language_info": {
   "codemirror_mode": {
    "name": "ipython",
    "version": 3
   },
   "file_extension": ".py",
   "mimetype": "text/x-python",
   "name": "python",
   "nbconvert_exporter": "python",
   "pygments_lexer": "ipython3",
   "version": "3.7.4"
  }
 },
 "nbformat": 4,
 "nbformat_minor": 4
}
